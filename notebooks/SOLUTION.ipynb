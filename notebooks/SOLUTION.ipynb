{
 "cells": [
  {
   "cell_type": "code",
   "execution_count": 1,
   "metadata": {
    "collapsed": false
   },
   "outputs": [],
   "source": [
    "import sys\n",
    "sys.path.append('./source')\n",
    "from source.code import data_loader "
   ]
  },
  {
   "cell_type": "code",
   "execution_count": 2,
   "metadata": {},
   "outputs": [
    {
     "data": {
      "text/plain": [
       "['',\n 'C:\\\\Users\\\\Efim_Golovin\\\\AppData\\\\Local\\\\Continuum\\\\anaconda3\\\\python36.zip',\n 'C:\\\\Users\\\\Efim_Golovin\\\\AppData\\\\Local\\\\Continuum\\\\anaconda3\\\\DLLs',\n 'C:\\\\Users\\\\Efim_Golovin\\\\AppData\\\\Local\\\\Continuum\\\\anaconda3\\\\lib',\n 'C:\\\\Users\\\\Efim_Golovin\\\\AppData\\\\Local\\\\Continuum\\\\anaconda3',\n 'C:\\\\Users\\\\Efim_Golovin\\\\AppData\\\\Local\\\\Continuum\\\\anaconda3\\\\lib\\\\site-packages',\n 'C:\\\\Users\\\\Efim_Golovin\\\\AppData\\\\Local\\\\Continuum\\\\anaconda3\\\\lib\\\\site-packages\\\\Babel-2.5.0-py3.6.egg',\n 'C:\\\\Users\\\\Efim_Golovin\\\\AppData\\\\Local\\\\Continuum\\\\anaconda3\\\\lib\\\\site-packages\\\\Mako-1.0.7-py3.6.egg',\n 'C:\\\\Users\\\\Efim_Golovin\\\\AppData\\\\Local\\\\Continuum\\\\anaconda3\\\\lib\\\\site-packages\\\\win32',\n 'C:\\\\Users\\\\Efim_Golovin\\\\AppData\\\\Local\\\\Continuum\\\\anaconda3\\\\lib\\\\site-packages\\\\win32\\\\lib',\n 'C:\\\\Users\\\\Efim_Golovin\\\\AppData\\\\Local\\\\Continuum\\\\anaconda3\\\\lib\\\\site-packages\\\\Pythonwin',\n 'C:\\\\Users\\\\Efim_Golovin\\\\AppData\\\\Local\\\\Continuum\\\\anaconda3\\\\lib\\\\site-packages\\\\IPython\\\\extensions',\n 'C:\\\\Users\\\\Efim_Golovin\\\\.ipython',\n './source']"
      ]
     },
     "execution_count": 2,
     "metadata": {},
     "output_type": "execute_result"
    }
   ],
   "source": [
    "sys.path"
   ]
  }
 ],
 "metadata": {
  "kernelspec": {
   "display_name": "Python 3",
   "language": "python",
   "name": "python3"
  },
  "language_info": {
   "codemirror_mode": {
    "name": "ipython",
    "version": 3
   },
   "file_extension": ".py",
   "mimetype": "text/x-python",
   "name": "python",
   "nbconvert_exporter": "python",
   "pygments_lexer": "ipython3",
   "version": "3.6.3"
  }
 },
 "nbformat": 4,
 "nbformat_minor": 2
}
