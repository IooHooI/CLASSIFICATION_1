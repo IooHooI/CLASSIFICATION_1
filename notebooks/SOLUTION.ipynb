{
 "cells": [
  {
   "cell_type": "markdown",
   "metadata": {},
   "source": [
    "# Classification: KNeighbors and Logistic regression"
   ]
  },
  {
   "cell_type": "code",
   "execution_count": 1,
   "metadata": {
    "collapsed": true
   },
   "outputs": [],
   "source": [
    "import sys\n",
    "sys.path.append('..')"
   ]
  },
  {
   "cell_type": "code",
   "execution_count": 2,
   "metadata": {
    "collapsed": true
   },
   "outputs": [],
   "source": [
    "from source.code.data_loader import DataLoader\n",
    "from source.code.data_loader import ItemSelector\n",
    "from source.code.data_loader import MyImputer\n",
    "\n",
    "from sklearn.preprocessing import StandardScaler\n",
    "from sklearn.preprocessing import QuantileTransformer\n",
    "\n",
    "from sklearn.linear_model import LogisticRegression\n",
    "\n",
    "from sklearn.neighbors import KNeighborsClassifier\n",
    "\n",
    "from sklearn.model_selection import train_test_split\n",
    "from sklearn.model_selection import GridSearchCV\n",
    "from sklearn.model_selection import StratifiedKFold\n",
    "\n",
    "from sklearn.metrics import make_scorer\n",
    "from sklearn.metrics import confusion_matrix\n",
    "from sklearn.metrics import accuracy_score\n",
    "from sklearn.metrics import precision_score\n",
    "from sklearn.metrics import recall_score\n",
    "from sklearn.metrics import f1_score\n",
    "\n",
    "from imblearn.under_sampling import RandomUnderSampler\n",
    "from imblearn.under_sampling import ClusterCentroids\n",
    "from imblearn.over_sampling import RandomOverSampler\n",
    "from imblearn.over_sampling import ADASYN\n",
    "\n",
    "import pandas as pd\n",
    "\n",
    "import numpy as np\n",
    "\n",
    "import matplotlib.pyplot as plt\n",
    "\n",
    "import seaborn as sns; sns.set(style=\"ticks\", color_codes=True)\n",
    "\n",
    "from imblearn.pipeline import Pipeline\n",
    "from sklearn.pipeline import FeatureUnion"
   ]
  },
  {
   "cell_type": "markdown",
   "metadata": {},
   "source": [
    "## Auxiliary methods"
   ]
  },
  {
   "cell_type": "code",
   "execution_count": 3,
   "metadata": {
    "collapsed": true
   },
   "outputs": [],
   "source": [
    "def perform_classification(X_train, y_train, X_test, y_test, knn_c, lr_c):\n",
    "    knn_c.fit(X_train, y_train)\n",
    "    lr_c.fit(X_train, y_train)\n",
    "    \n",
    "    k_n_y_pred = knn_c.predict(X_test)\n",
    "    l_r_y_pred = lr_c.predict(X_test)\n",
    "    \n",
    "    show_quality_results(y_test, k_n_y_pred, l_r_y_pred)"
   ]
  },
  {
   "cell_type": "code",
   "execution_count": 4,
   "metadata": {
    "collapsed": true
   },
   "outputs": [],
   "source": [
    "def show_quality_results(y_test, k_n_y_pred, l_r_y_pred):\n",
    "    k_n_precision_sc = precision_score(y_test, k_n_y_pred)\n",
    "    k_n_accuracy_sc = accuracy_score(y_test, k_n_y_pred)\n",
    "    k_n_recall_sc = recall_score(y_test, k_n_y_pred)\n",
    "    k_n_f1_sc = f1_score(y_test, k_n_y_pred)\n",
    "    k_n_conf_matrix = confusion_matrix(y_test, k_n_y_pred)\n",
    "\n",
    "    l_r_precision_sc = precision_score(y_test, l_r_y_pred)\n",
    "    l_r_accuracy_sc = accuracy_score(y_test, l_r_y_pred)\n",
    "    l_r_recall_sc = recall_score(y_test, l_r_y_pred)\n",
    "    l_r_f1_sc = f1_score(y_test, l_r_y_pred)\n",
    "    l_r_conf_matrix = confusion_matrix(y_test, l_r_y_pred)\n",
    "    \n",
    "    f, axs = plt.subplots(1, 2, figsize=(15, 5))\n",
    "    sns.heatmap(k_n_conf_matrix, annot=True, fmt=\"d\", ax=axs[0])\n",
    "    sns.heatmap(l_r_conf_matrix, annot=True, fmt=\"d\", ax=axs[1])\n",
    "    axs[0].set_title(\"K-nearest neighbours\\nPrecision: {0:f},\\nRecall: {1:f},\\nF-score: {2:f},\\nAccuracy: {3:f}\".format(k_n_precision_sc, k_n_recall_sc, k_n_f1_sc, k_n_accuracy_sc))\n",
    "    axs[1].set_title(\"Logistic regression\\nPrecision: {0:f},\\nRecall: {1:f},\\nF-score: {2:f},\\nAccuracy: {3:f}\".format(l_r_precision_sc, l_r_recall_sc, l_r_f1_sc, l_r_accuracy_sc))\n",
    "    axs[0].set_xlabel(\"Predicted classes\")\n",
    "    axs[1].set_xlabel(\"Predicted classes\")\n",
    "    axs[0].set_ylabel(\"True classes\")\n",
    "    axs[1].set_ylabel(\"True classes\")\n",
    "    plt.show()"
   ]
  },
  {
   "cell_type": "code",
   "execution_count": 5,
   "metadata": {
    "collapsed": true
   },
   "outputs": [],
   "source": [
    "def plot_results(ax, metric_mean_1, metric_mean_2, metric_mean_3, metric_std_1, metric_std_2, metric_std_3, title, x_label, y_label, xticklabels, legend):\n",
    "    N = len(xticklabels)\n",
    "    ind = np.arange(N)\n",
    "    width = 0.15\n",
    "    ax.bar(ind, metric_mean_1, width, color='r', yerr=metric_std_1)\n",
    "    ax.bar(ind + width, metric_mean_2, width, color='g', yerr=metric_std_2)\n",
    "    ax.bar(ind + 2 * width, metric_mean_3, width, color='b', yerr=metric_std_3)\n",
    "    ax.set_ylabel(y_label)\n",
    "    ax.set_xlabel(x_label)\n",
    "    ax.set_title(title)\n",
    "    ax.set_xticks(ind + width / N)\n",
    "    ax.set_xticklabels(xticklabels)\n",
    "    ax.legend(legend, loc=0)"
   ]
  },
  {
   "cell_type": "code",
   "execution_count": 6,
   "metadata": {
    "collapsed": true
   },
   "outputs": [],
   "source": [
    "def display_results(test_statistics, metric):\n",
    "    fig, axes = plt.subplots(4, 2, figsize=(24, 22))\n",
    "    params = (\n",
    "        'Neighbors count',\n",
    "        metric,\n",
    "        ('3', '4', '5', '6', '7', '8'),\n",
    "        ('Метрика Манхэттена (p: 1)', 'Евклидова метрика (p: 2)', 'Метрика Минковского III-го порядка (p: 3)')\n",
    "    )\n",
    "    for i in range(8):\n",
    "        plot_results(\n",
    "            axes[i // 2, i % 2],\n",
    "            test_statistics[0][0, i // 2, 0:, 0:, i % 2][0:, 0],\n",
    "            test_statistics[0][0, i // 2, 0:, 0:, i % 2][0:, 1],\n",
    "            test_statistics[0][0, i // 2, 0:, 0:, i % 2][0:, 2],\n",
    "            test_statistics[1][0, i // 2, 0:, 0:, i % 2][0:, 0],\n",
    "            test_statistics[1][0, i // 2, 0:, 0:, i % 2][0:, 1],\n",
    "            test_statistics[1][0, i // 2, 0:, 0:, i % 2][0:, 2],\n",
    "            '{} by metric order and neighbors count for leaf size: {} and weighting strategy: {}'.format(metric, 10 + 5 * (i // 2), 'uniform' if i % 2 == 0 else 'distance'),\n",
    "            *params\n",
    "        )\n",
    "    plt.tight_layout()\n",
    "    plt.show()"
   ]
  },
  {
   "cell_type": "code",
   "execution_count": 7,
   "metadata": {
    "collapsed": true
   },
   "outputs": [],
   "source": [
    "def find_the_best_classifier(X, y, base_classifier, grid_search_params, metric_to_maximize):\n",
    "    # Здесь, пожалуй, стоит подчеркнуть важность выбора в сторону стратифицированной валидации, поскольку речь идет о задаче классификации.\n",
    "    # Данный тип валидации сохраняет пропорцию классов в фолдах, так что мы можем предполагать, что разброс значений метрик на тесте не будет высоким.\n",
    "    grid_search = GridSearchCV(\n",
    "        estimator=base_classifier,\n",
    "        param_grid=grid_search_params,\n",
    "        cv=StratifiedKFold(n_splits=6),\n",
    "        scoring={'accuracy': make_scorer(accuracy_score),\n",
    "                 'precision': make_scorer(precision_score),\n",
    "                 'recall': make_scorer(recall_score),\n",
    "                 'f1': make_scorer(f1_score)},\n",
    "        refit=metric_to_maximize,\n",
    "        n_jobs=8\n",
    "    )\n",
    "    grid_search.fit(X, y)\n",
    "    return grid_search"
   ]
  },
  {
   "cell_type": "markdown",
   "metadata": {},
   "source": [
    "## Initial data loading"
   ]
  },
  {
   "cell_type": "code",
   "execution_count": 8,
   "metadata": {
    "collapsed": true
   },
   "outputs": [],
   "source": [
    "with open('../data/description/datasets', 'r') as source:\n",
    "    datasets = source.readlines()\n",
    "datasets = [dataset.replace('\\n', '') for dataset in datasets]\n",
    "dataset_path_pattern = '../data/{}/{}.{}.txt'\n",
    "data_paths = [dataset_path_pattern.format('train', dataset, 'data') for dataset in datasets] + [dataset_path_pattern.format('test', dataset, 'test') for dataset in datasets]\n",
    "data_loader = DataLoader(data_paths, '../data/description/columns', '../data/description/classes')\n",
    "data_frame = data_loader.load()"
   ]
  },
  {
   "cell_type": "markdown",
   "metadata": {},
   "source": [
    "## Dataset description"
   ]
  },
  {
   "cell_type": "markdown",
   "metadata": {
    "collapsed": true
   },
   "source": [
    "Собственно датасет представляет собой описание симптомов пациентов.\n",
    "\n",
    "Цель - определение заболевания щитовидной железы (диагноз - целевая переменная).\n",
    "\n",
    "Данные резбиты на несколько файлов, шесть пар файлов (для обучения и контроля) имеют одинаковою структуру, остальные отличаются по количеству признаков и порядку следования.\n",
    "\n",
    "В данной работе используются только эти шесть пар файлов.\n",
    "\n",
    "Также стоит отметить, что целевая переменная в разных файлах имеет разное количество разных диагнозов, однако все в целом могут быть разделены на две группы: здоров, болен.\n",
    "\n",
    "Здесь задача многоклассовой классификации сводится к бинарной."
   ]
  },
  {
   "cell_type": "markdown",
   "metadata": {},
   "source": [
    "## EDA"
   ]
  },
  {
   "cell_type": "code",
   "execution_count": 9,
   "metadata": {
    "scrolled": true
   },
   "outputs": [
    {
     "data": {
      "text/html": [
       "<div>\n",
       "<style>\n",
       "    .dataframe thead tr:only-child th {\n",
       "        text-align: right;\n",
       "    }\n",
       "\n",
       "    .dataframe thead th {\n",
       "        text-align: left;\n",
       "    }\n",
       "\n",
       "    .dataframe tbody tr th {\n",
       "        vertical-align: top;\n",
       "    }\n",
       "</style>\n",
       "<table border=\"1\" class=\"dataframe\">\n",
       "  <thead>\n",
       "    <tr style=\"text-align: right;\">\n",
       "      <th></th>\n",
       "      <th>age</th>\n",
       "      <th>sex</th>\n",
       "      <th>on thyroxine</th>\n",
       "      <th>query on thyroxine</th>\n",
       "      <th>on antithyroid medication</th>\n",
       "      <th>sick</th>\n",
       "      <th>pregnant</th>\n",
       "      <th>thyroid surgery</th>\n",
       "      <th>I131 treatment</th>\n",
       "      <th>query hypothyroid</th>\n",
       "      <th>...</th>\n",
       "      <th>TT4 measured</th>\n",
       "      <th>TT4</th>\n",
       "      <th>T4U measured</th>\n",
       "      <th>T4U</th>\n",
       "      <th>FTI measured</th>\n",
       "      <th>FTI</th>\n",
       "      <th>TBG measured</th>\n",
       "      <th>TBG</th>\n",
       "      <th>referral source</th>\n",
       "      <th>diagnosis</th>\n",
       "    </tr>\n",
       "  </thead>\n",
       "  <tbody>\n",
       "    <tr>\n",
       "      <th>0</th>\n",
       "      <td>41.0</td>\n",
       "      <td>1.0</td>\n",
       "      <td>False</td>\n",
       "      <td>False</td>\n",
       "      <td>False</td>\n",
       "      <td>False</td>\n",
       "      <td>False</td>\n",
       "      <td>False</td>\n",
       "      <td>False</td>\n",
       "      <td>False</td>\n",
       "      <td>...</td>\n",
       "      <td>True</td>\n",
       "      <td>125.0</td>\n",
       "      <td>True</td>\n",
       "      <td>1.14</td>\n",
       "      <td>True</td>\n",
       "      <td>109.0</td>\n",
       "      <td>False</td>\n",
       "      <td>None</td>\n",
       "      <td>SVHC</td>\n",
       "      <td>False</td>\n",
       "    </tr>\n",
       "    <tr>\n",
       "      <th>1</th>\n",
       "      <td>23.0</td>\n",
       "      <td>1.0</td>\n",
       "      <td>False</td>\n",
       "      <td>False</td>\n",
       "      <td>False</td>\n",
       "      <td>False</td>\n",
       "      <td>False</td>\n",
       "      <td>False</td>\n",
       "      <td>False</td>\n",
       "      <td>False</td>\n",
       "      <td>...</td>\n",
       "      <td>True</td>\n",
       "      <td>102.0</td>\n",
       "      <td>False</td>\n",
       "      <td>NaN</td>\n",
       "      <td>False</td>\n",
       "      <td>NaN</td>\n",
       "      <td>False</td>\n",
       "      <td>None</td>\n",
       "      <td>other</td>\n",
       "      <td>False</td>\n",
       "    </tr>\n",
       "    <tr>\n",
       "      <th>2</th>\n",
       "      <td>46.0</td>\n",
       "      <td>0.0</td>\n",
       "      <td>False</td>\n",
       "      <td>False</td>\n",
       "      <td>False</td>\n",
       "      <td>False</td>\n",
       "      <td>False</td>\n",
       "      <td>False</td>\n",
       "      <td>False</td>\n",
       "      <td>False</td>\n",
       "      <td>...</td>\n",
       "      <td>True</td>\n",
       "      <td>109.0</td>\n",
       "      <td>True</td>\n",
       "      <td>0.91</td>\n",
       "      <td>True</td>\n",
       "      <td>120.0</td>\n",
       "      <td>False</td>\n",
       "      <td>None</td>\n",
       "      <td>other</td>\n",
       "      <td>False</td>\n",
       "    </tr>\n",
       "    <tr>\n",
       "      <th>3</th>\n",
       "      <td>70.0</td>\n",
       "      <td>1.0</td>\n",
       "      <td>True</td>\n",
       "      <td>False</td>\n",
       "      <td>False</td>\n",
       "      <td>False</td>\n",
       "      <td>False</td>\n",
       "      <td>False</td>\n",
       "      <td>False</td>\n",
       "      <td>False</td>\n",
       "      <td>...</td>\n",
       "      <td>True</td>\n",
       "      <td>175.0</td>\n",
       "      <td>False</td>\n",
       "      <td>NaN</td>\n",
       "      <td>False</td>\n",
       "      <td>NaN</td>\n",
       "      <td>False</td>\n",
       "      <td>None</td>\n",
       "      <td>other</td>\n",
       "      <td>False</td>\n",
       "    </tr>\n",
       "    <tr>\n",
       "      <th>4</th>\n",
       "      <td>70.0</td>\n",
       "      <td>1.0</td>\n",
       "      <td>False</td>\n",
       "      <td>False</td>\n",
       "      <td>False</td>\n",
       "      <td>False</td>\n",
       "      <td>False</td>\n",
       "      <td>False</td>\n",
       "      <td>False</td>\n",
       "      <td>False</td>\n",
       "      <td>...</td>\n",
       "      <td>True</td>\n",
       "      <td>61.0</td>\n",
       "      <td>True</td>\n",
       "      <td>0.87</td>\n",
       "      <td>True</td>\n",
       "      <td>70.0</td>\n",
       "      <td>False</td>\n",
       "      <td>None</td>\n",
       "      <td>SVI</td>\n",
       "      <td>False</td>\n",
       "    </tr>\n",
       "  </tbody>\n",
       "</table>\n",
       "<p>5 rows × 30 columns</p>\n",
       "</div>"
      ],
      "text/plain": [
       "    age  sex  on thyroxine  query on thyroxine  on antithyroid medication  \\\n",
       "0  41.0  1.0         False               False                      False   \n",
       "1  23.0  1.0         False               False                      False   \n",
       "2  46.0  0.0         False               False                      False   \n",
       "3  70.0  1.0          True               False                      False   \n",
       "4  70.0  1.0         False               False                      False   \n",
       "\n",
       "    sick  pregnant  thyroid surgery  I131 treatment  query hypothyroid  \\\n",
       "0  False     False            False           False              False   \n",
       "1  False     False            False           False              False   \n",
       "2  False     False            False           False              False   \n",
       "3  False     False            False           False              False   \n",
       "4  False     False            False           False              False   \n",
       "\n",
       "     ...      TT4 measured    TT4  T4U measured   T4U  FTI measured    FTI  \\\n",
       "0    ...              True  125.0          True  1.14          True  109.0   \n",
       "1    ...              True  102.0         False   NaN         False    NaN   \n",
       "2    ...              True  109.0          True  0.91          True  120.0   \n",
       "3    ...              True  175.0         False   NaN         False    NaN   \n",
       "4    ...              True   61.0          True  0.87          True   70.0   \n",
       "\n",
       "   TBG measured   TBG  referral source  diagnosis  \n",
       "0         False  None             SVHC      False  \n",
       "1         False  None            other      False  \n",
       "2         False  None            other      False  \n",
       "3         False  None            other      False  \n",
       "4         False  None              SVI      False  \n",
       "\n",
       "[5 rows x 30 columns]"
      ]
     },
     "execution_count": 9,
     "metadata": {},
     "output_type": "execute_result"
    }
   ],
   "source": [
    "data_frame.head()"
   ]
  },
  {
   "cell_type": "code",
   "execution_count": 10,
   "metadata": {},
   "outputs": [
    {
     "name": "stdout",
     "output_type": "stream",
     "text": [
      "<class 'pandas.core.frame.DataFrame'>\n",
      "Int64Index: 22632 entries, 0 to 971\n",
      "Data columns (total 30 columns):\n",
      "age                          22626 non-null float64\n",
      "sex                          21732 non-null float64\n",
      "on thyroxine                 22632 non-null bool\n",
      "query on thyroxine           22632 non-null bool\n",
      "on antithyroid medication    22632 non-null bool\n",
      "sick                         22632 non-null bool\n",
      "pregnant                     22632 non-null bool\n",
      "thyroid surgery              22632 non-null bool\n",
      "I131 treatment               22632 non-null bool\n",
      "query hypothyroid            22632 non-null bool\n",
      "query hyperthyroid           22632 non-null bool\n",
      "lithium                      22632 non-null bool\n",
      "goitre                       22632 non-null bool\n",
      "tumor                        22632 non-null bool\n",
      "hypopituitary                22632 non-null bool\n",
      "psych                        22632 non-null bool\n",
      "TSH measured                 22632 non-null bool\n",
      "TSH                          20418 non-null float64\n",
      "T3 measured                  22632 non-null bool\n",
      "T3                           18018 non-null float64\n",
      "TT4 measured                 22632 non-null bool\n",
      "TT4                          21246 non-null float64\n",
      "T4U measured                 22632 non-null bool\n",
      "T4U                          20310 non-null float64\n",
      "FTI measured                 22632 non-null bool\n",
      "FTI                          20322 non-null float64\n",
      "TBG measured                 22632 non-null bool\n",
      "TBG                          0 non-null object\n",
      "referral source              22632 non-null object\n",
      "diagnosis                    22632 non-null bool\n",
      "dtypes: bool(21), float64(7), object(2)\n",
      "memory usage: 2.2+ MB\n"
     ]
    }
   ],
   "source": [
    "data_frame.info()"
   ]
  },
  {
   "cell_type": "code",
   "execution_count": 11,
   "metadata": {},
   "outputs": [
    {
     "data": {
      "text/html": [
       "<div>\n",
       "<style>\n",
       "    .dataframe thead tr:only-child th {\n",
       "        text-align: right;\n",
       "    }\n",
       "\n",
       "    .dataframe thead th {\n",
       "        text-align: left;\n",
       "    }\n",
       "\n",
       "    .dataframe tbody tr th {\n",
       "        vertical-align: top;\n",
       "    }\n",
       "</style>\n",
       "<table border=\"1\" class=\"dataframe\">\n",
       "  <thead>\n",
       "    <tr style=\"text-align: right;\">\n",
       "      <th></th>\n",
       "      <th>age</th>\n",
       "      <th>sex</th>\n",
       "      <th>TSH</th>\n",
       "      <th>T3</th>\n",
       "      <th>TT4</th>\n",
       "      <th>T4U</th>\n",
       "      <th>FTI</th>\n",
       "    </tr>\n",
       "  </thead>\n",
       "  <tbody>\n",
       "    <tr>\n",
       "      <th>count</th>\n",
       "      <td>22626.000000</td>\n",
       "      <td>21732.000000</td>\n",
       "      <td>20418.000000</td>\n",
       "      <td>18018.000000</td>\n",
       "      <td>21246.000000</td>\n",
       "      <td>20310.000000</td>\n",
       "      <td>20322.000000</td>\n",
       "    </tr>\n",
       "    <tr>\n",
       "      <th>mean</th>\n",
       "      <td>51.735879</td>\n",
       "      <td>0.684705</td>\n",
       "      <td>5.086766</td>\n",
       "      <td>2.013500</td>\n",
       "      <td>108.319345</td>\n",
       "      <td>0.995000</td>\n",
       "      <td>110.469649</td>\n",
       "    </tr>\n",
       "    <tr>\n",
       "      <th>std</th>\n",
       "      <td>20.082739</td>\n",
       "      <td>0.464644</td>\n",
       "      <td>24.518468</td>\n",
       "      <td>0.827319</td>\n",
       "      <td>35.600058</td>\n",
       "      <td>0.195433</td>\n",
       "      <td>33.085627</td>\n",
       "    </tr>\n",
       "    <tr>\n",
       "      <th>min</th>\n",
       "      <td>1.000000</td>\n",
       "      <td>0.000000</td>\n",
       "      <td>0.005000</td>\n",
       "      <td>0.050000</td>\n",
       "      <td>2.000000</td>\n",
       "      <td>0.250000</td>\n",
       "      <td>2.000000</td>\n",
       "    </tr>\n",
       "    <tr>\n",
       "      <th>25%</th>\n",
       "      <td>36.000000</td>\n",
       "      <td>0.000000</td>\n",
       "      <td>0.500000</td>\n",
       "      <td>1.600000</td>\n",
       "      <td>88.000000</td>\n",
       "      <td>0.880000</td>\n",
       "      <td>93.000000</td>\n",
       "    </tr>\n",
       "    <tr>\n",
       "      <th>50%</th>\n",
       "      <td>54.000000</td>\n",
       "      <td>1.000000</td>\n",
       "      <td>1.400000</td>\n",
       "      <td>2.000000</td>\n",
       "      <td>103.000000</td>\n",
       "      <td>0.980000</td>\n",
       "      <td>107.000000</td>\n",
       "    </tr>\n",
       "    <tr>\n",
       "      <th>75%</th>\n",
       "      <td>67.000000</td>\n",
       "      <td>1.000000</td>\n",
       "      <td>2.700000</td>\n",
       "      <td>2.400000</td>\n",
       "      <td>124.000000</td>\n",
       "      <td>1.080000</td>\n",
       "      <td>124.000000</td>\n",
       "    </tr>\n",
       "    <tr>\n",
       "      <th>max</th>\n",
       "      <td>455.000000</td>\n",
       "      <td>1.000000</td>\n",
       "      <td>530.000000</td>\n",
       "      <td>10.600000</td>\n",
       "      <td>430.000000</td>\n",
       "      <td>2.320000</td>\n",
       "      <td>395.000000</td>\n",
       "    </tr>\n",
       "  </tbody>\n",
       "</table>\n",
       "</div>"
      ],
      "text/plain": [
       "                age           sex           TSH            T3           TT4  \\\n",
       "count  22626.000000  21732.000000  20418.000000  18018.000000  21246.000000   \n",
       "mean      51.735879      0.684705      5.086766      2.013500    108.319345   \n",
       "std       20.082739      0.464644     24.518468      0.827319     35.600058   \n",
       "min        1.000000      0.000000      0.005000      0.050000      2.000000   \n",
       "25%       36.000000      0.000000      0.500000      1.600000     88.000000   \n",
       "50%       54.000000      1.000000      1.400000      2.000000    103.000000   \n",
       "75%       67.000000      1.000000      2.700000      2.400000    124.000000   \n",
       "max      455.000000      1.000000    530.000000     10.600000    430.000000   \n",
       "\n",
       "                T4U           FTI  \n",
       "count  20310.000000  20322.000000  \n",
       "mean       0.995000    110.469649  \n",
       "std        0.195433     33.085627  \n",
       "min        0.250000      2.000000  \n",
       "25%        0.880000     93.000000  \n",
       "50%        0.980000    107.000000  \n",
       "75%        1.080000    124.000000  \n",
       "max        2.320000    395.000000  "
      ]
     },
     "execution_count": 11,
     "metadata": {},
     "output_type": "execute_result"
    }
   ],
   "source": [
    "data_frame.describe()"
   ]
  },
  {
   "cell_type": "markdown",
   "metadata": {},
   "source": [
    "После объединения могло возникнуть некоторое количество дупликатов, попробуем от них избавиться:"
   ]
  },
  {
   "cell_type": "code",
   "execution_count": 12,
   "metadata": {
    "collapsed": true
   },
   "outputs": [],
   "source": [
    "data_frame.drop_duplicates(inplace=True)"
   ]
  },
  {
   "cell_type": "code",
   "execution_count": 13,
   "metadata": {
    "scrolled": false
   },
   "outputs": [
    {
     "name": "stdout",
     "output_type": "stream",
     "text": [
      "<class 'pandas.core.frame.DataFrame'>\n",
      "Int64Index: 4619 entries, 0 to 909\n",
      "Data columns (total 30 columns):\n",
      "age                          4618 non-null float64\n",
      "sex                          4435 non-null float64\n",
      "on thyroxine                 4619 non-null bool\n",
      "query on thyroxine           4619 non-null bool\n",
      "on antithyroid medication    4619 non-null bool\n",
      "sick                         4619 non-null bool\n",
      "pregnant                     4619 non-null bool\n",
      "thyroid surgery              4619 non-null bool\n",
      "I131 treatment               4619 non-null bool\n",
      "query hypothyroid            4619 non-null bool\n",
      "query hyperthyroid           4619 non-null bool\n",
      "lithium                      4619 non-null bool\n",
      "goitre                       4619 non-null bool\n",
      "tumor                        4619 non-null bool\n",
      "hypopituitary                4619 non-null bool\n",
      "psych                        4619 non-null bool\n",
      "TSH measured                 4619 non-null bool\n",
      "TSH                          4286 non-null float64\n",
      "T3 measured                  4619 non-null bool\n",
      "T3                           3778 non-null float64\n",
      "TT4 measured                 4619 non-null bool\n",
      "TT4                          4442 non-null float64\n",
      "T4U measured                 4619 non-null bool\n",
      "T4U                          4247 non-null float64\n",
      "FTI measured                 4619 non-null bool\n",
      "FTI                          4249 non-null float64\n",
      "TBG measured                 4619 non-null bool\n",
      "TBG                          0 non-null object\n",
      "referral source              4619 non-null object\n",
      "diagnosis                    4619 non-null bool\n",
      "dtypes: bool(21), float64(7), object(2)\n",
      "memory usage: 455.6+ KB\n"
     ]
    }
   ],
   "source": [
    "data_frame.info()"
   ]
  },
  {
   "cell_type": "code",
   "execution_count": 14,
   "metadata": {},
   "outputs": [
    {
     "data": {
      "text/html": [
       "<div>\n",
       "<style>\n",
       "    .dataframe thead tr:only-child th {\n",
       "        text-align: right;\n",
       "    }\n",
       "\n",
       "    .dataframe thead th {\n",
       "        text-align: left;\n",
       "    }\n",
       "\n",
       "    .dataframe tbody tr th {\n",
       "        vertical-align: top;\n",
       "    }\n",
       "</style>\n",
       "<table border=\"1\" class=\"dataframe\">\n",
       "  <thead>\n",
       "    <tr style=\"text-align: right;\">\n",
       "      <th></th>\n",
       "      <th>age</th>\n",
       "      <th>sex</th>\n",
       "      <th>TSH</th>\n",
       "      <th>T3</th>\n",
       "      <th>TT4</th>\n",
       "      <th>T4U</th>\n",
       "      <th>FTI</th>\n",
       "    </tr>\n",
       "  </thead>\n",
       "  <tbody>\n",
       "    <tr>\n",
       "      <th>count</th>\n",
       "      <td>4618.000000</td>\n",
       "      <td>4435.000000</td>\n",
       "      <td>4286.000000</td>\n",
       "      <td>3778.000000</td>\n",
       "      <td>4442.000000</td>\n",
       "      <td>4247.000000</td>\n",
       "      <td>4249.000000</td>\n",
       "    </tr>\n",
       "    <tr>\n",
       "      <th>mean</th>\n",
       "      <td>52.066046</td>\n",
       "      <td>0.694701</td>\n",
       "      <td>7.068102</td>\n",
       "      <td>2.007740</td>\n",
       "      <td>109.621027</td>\n",
       "      <td>1.002579</td>\n",
       "      <td>111.270981</td>\n",
       "    </tr>\n",
       "    <tr>\n",
       "      <th>std</th>\n",
       "      <td>20.077794</td>\n",
       "      <td>0.460586</td>\n",
       "      <td>30.597431</td>\n",
       "      <td>0.963957</td>\n",
       "      <td>40.885925</td>\n",
       "      <td>0.215204</td>\n",
       "      <td>38.158859</td>\n",
       "    </tr>\n",
       "    <tr>\n",
       "      <th>min</th>\n",
       "      <td>1.000000</td>\n",
       "      <td>0.000000</td>\n",
       "      <td>0.005000</td>\n",
       "      <td>0.050000</td>\n",
       "      <td>2.000000</td>\n",
       "      <td>0.250000</td>\n",
       "      <td>2.000000</td>\n",
       "    </tr>\n",
       "    <tr>\n",
       "      <th>25%</th>\n",
       "      <td>36.000000</td>\n",
       "      <td>0.000000</td>\n",
       "      <td>0.410000</td>\n",
       "      <td>1.500000</td>\n",
       "      <td>86.000000</td>\n",
       "      <td>0.870000</td>\n",
       "      <td>92.000000</td>\n",
       "    </tr>\n",
       "    <tr>\n",
       "      <th>50%</th>\n",
       "      <td>55.000000</td>\n",
       "      <td>1.000000</td>\n",
       "      <td>1.400000</td>\n",
       "      <td>2.000000</td>\n",
       "      <td>104.000000</td>\n",
       "      <td>0.980000</td>\n",
       "      <td>107.000000</td>\n",
       "    </tr>\n",
       "    <tr>\n",
       "      <th>75%</th>\n",
       "      <td>68.000000</td>\n",
       "      <td>1.000000</td>\n",
       "      <td>3.200000</td>\n",
       "      <td>2.400000</td>\n",
       "      <td>129.000000</td>\n",
       "      <td>1.090000</td>\n",
       "      <td>126.000000</td>\n",
       "    </tr>\n",
       "    <tr>\n",
       "      <th>max</th>\n",
       "      <td>455.000000</td>\n",
       "      <td>1.000000</td>\n",
       "      <td>530.000000</td>\n",
       "      <td>10.600000</td>\n",
       "      <td>430.000000</td>\n",
       "      <td>2.320000</td>\n",
       "      <td>395.000000</td>\n",
       "    </tr>\n",
       "  </tbody>\n",
       "</table>\n",
       "</div>"
      ],
      "text/plain": [
       "               age          sex          TSH           T3          TT4  \\\n",
       "count  4618.000000  4435.000000  4286.000000  3778.000000  4442.000000   \n",
       "mean     52.066046     0.694701     7.068102     2.007740   109.621027   \n",
       "std      20.077794     0.460586    30.597431     0.963957    40.885925   \n",
       "min       1.000000     0.000000     0.005000     0.050000     2.000000   \n",
       "25%      36.000000     0.000000     0.410000     1.500000    86.000000   \n",
       "50%      55.000000     1.000000     1.400000     2.000000   104.000000   \n",
       "75%      68.000000     1.000000     3.200000     2.400000   129.000000   \n",
       "max     455.000000     1.000000   530.000000    10.600000   430.000000   \n",
       "\n",
       "               T4U          FTI  \n",
       "count  4247.000000  4249.000000  \n",
       "mean      1.002579   111.270981  \n",
       "std       0.215204    38.158859  \n",
       "min       0.250000     2.000000  \n",
       "25%       0.870000    92.000000  \n",
       "50%       0.980000   107.000000  \n",
       "75%       1.090000   126.000000  \n",
       "max       2.320000   395.000000  "
      ]
     },
     "execution_count": 14,
     "metadata": {},
     "output_type": "execute_result"
    }
   ],
   "source": [
    "data_frame.describe()"
   ]
  },
  {
   "cell_type": "markdown",
   "metadata": {},
   "source": [
    "Судя по всему подавляющее большинство информации в датастах было дуплицировано.\n",
    "Это также может быть объяснено тем, что все случаи положительных диагнозов были схлопнуты в один, поэтому пациенты с одинаковыми симптомами, но разными диагнозами из разных выборок стали идентичными."
   ]
  },
  {
   "cell_type": "markdown",
   "metadata": {},
   "source": [
    "Из описания видно, что признак TBG не содержит ни одного ненулевого значения, соответственно значение данного признака не было измерено ни для одного пациента. Данный признак (а соответственно и признак TBG measured) можно удалить из выборки:"
   ]
  },
  {
   "cell_type": "code",
   "execution_count": 15,
   "metadata": {
    "collapsed": true
   },
   "outputs": [],
   "source": [
    "data_frame.drop(['TBG measured', 'TBG'], axis='columns', inplace=True)"
   ]
  },
  {
   "cell_type": "code",
   "execution_count": 16,
   "metadata": {},
   "outputs": [
    {
     "name": "stdout",
     "output_type": "stream",
     "text": [
      "<class 'pandas.core.frame.DataFrame'>\n",
      "Int64Index: 4619 entries, 0 to 909\n",
      "Data columns (total 28 columns):\n",
      "age                          4618 non-null float64\n",
      "sex                          4435 non-null float64\n",
      "on thyroxine                 4619 non-null bool\n",
      "query on thyroxine           4619 non-null bool\n",
      "on antithyroid medication    4619 non-null bool\n",
      "sick                         4619 non-null bool\n",
      "pregnant                     4619 non-null bool\n",
      "thyroid surgery              4619 non-null bool\n",
      "I131 treatment               4619 non-null bool\n",
      "query hypothyroid            4619 non-null bool\n",
      "query hyperthyroid           4619 non-null bool\n",
      "lithium                      4619 non-null bool\n",
      "goitre                       4619 non-null bool\n",
      "tumor                        4619 non-null bool\n",
      "hypopituitary                4619 non-null bool\n",
      "psych                        4619 non-null bool\n",
      "TSH measured                 4619 non-null bool\n",
      "TSH                          4286 non-null float64\n",
      "T3 measured                  4619 non-null bool\n",
      "T3                           3778 non-null float64\n",
      "TT4 measured                 4619 non-null bool\n",
      "TT4                          4442 non-null float64\n",
      "T4U measured                 4619 non-null bool\n",
      "T4U                          4247 non-null float64\n",
      "FTI measured                 4619 non-null bool\n",
      "FTI                          4249 non-null float64\n",
      "referral source              4619 non-null object\n",
      "diagnosis                    4619 non-null bool\n",
      "dtypes: bool(20), float64(7), object(1)\n",
      "memory usage: 415.0+ KB\n"
     ]
    }
   ],
   "source": [
    "data_frame.info()"
   ]
  },
  {
   "cell_type": "code",
   "execution_count": 17,
   "metadata": {},
   "outputs": [
    {
     "data": {
      "text/html": [
       "<div>\n",
       "<style>\n",
       "    .dataframe thead tr:only-child th {\n",
       "        text-align: right;\n",
       "    }\n",
       "\n",
       "    .dataframe thead th {\n",
       "        text-align: left;\n",
       "    }\n",
       "\n",
       "    .dataframe tbody tr th {\n",
       "        vertical-align: top;\n",
       "    }\n",
       "</style>\n",
       "<table border=\"1\" class=\"dataframe\">\n",
       "  <thead>\n",
       "    <tr style=\"text-align: right;\">\n",
       "      <th></th>\n",
       "      <th>age</th>\n",
       "      <th>sex</th>\n",
       "      <th>TSH</th>\n",
       "      <th>T3</th>\n",
       "      <th>TT4</th>\n",
       "      <th>T4U</th>\n",
       "      <th>FTI</th>\n",
       "    </tr>\n",
       "  </thead>\n",
       "  <tbody>\n",
       "    <tr>\n",
       "      <th>count</th>\n",
       "      <td>4618.000000</td>\n",
       "      <td>4435.000000</td>\n",
       "      <td>4286.000000</td>\n",
       "      <td>3778.000000</td>\n",
       "      <td>4442.000000</td>\n",
       "      <td>4247.000000</td>\n",
       "      <td>4249.000000</td>\n",
       "    </tr>\n",
       "    <tr>\n",
       "      <th>mean</th>\n",
       "      <td>52.066046</td>\n",
       "      <td>0.694701</td>\n",
       "      <td>7.068102</td>\n",
       "      <td>2.007740</td>\n",
       "      <td>109.621027</td>\n",
       "      <td>1.002579</td>\n",
       "      <td>111.270981</td>\n",
       "    </tr>\n",
       "    <tr>\n",
       "      <th>std</th>\n",
       "      <td>20.077794</td>\n",
       "      <td>0.460586</td>\n",
       "      <td>30.597431</td>\n",
       "      <td>0.963957</td>\n",
       "      <td>40.885925</td>\n",
       "      <td>0.215204</td>\n",
       "      <td>38.158859</td>\n",
       "    </tr>\n",
       "    <tr>\n",
       "      <th>min</th>\n",
       "      <td>1.000000</td>\n",
       "      <td>0.000000</td>\n",
       "      <td>0.005000</td>\n",
       "      <td>0.050000</td>\n",
       "      <td>2.000000</td>\n",
       "      <td>0.250000</td>\n",
       "      <td>2.000000</td>\n",
       "    </tr>\n",
       "    <tr>\n",
       "      <th>25%</th>\n",
       "      <td>36.000000</td>\n",
       "      <td>0.000000</td>\n",
       "      <td>0.410000</td>\n",
       "      <td>1.500000</td>\n",
       "      <td>86.000000</td>\n",
       "      <td>0.870000</td>\n",
       "      <td>92.000000</td>\n",
       "    </tr>\n",
       "    <tr>\n",
       "      <th>50%</th>\n",
       "      <td>55.000000</td>\n",
       "      <td>1.000000</td>\n",
       "      <td>1.400000</td>\n",
       "      <td>2.000000</td>\n",
       "      <td>104.000000</td>\n",
       "      <td>0.980000</td>\n",
       "      <td>107.000000</td>\n",
       "    </tr>\n",
       "    <tr>\n",
       "      <th>75%</th>\n",
       "      <td>68.000000</td>\n",
       "      <td>1.000000</td>\n",
       "      <td>3.200000</td>\n",
       "      <td>2.400000</td>\n",
       "      <td>129.000000</td>\n",
       "      <td>1.090000</td>\n",
       "      <td>126.000000</td>\n",
       "    </tr>\n",
       "    <tr>\n",
       "      <th>max</th>\n",
       "      <td>455.000000</td>\n",
       "      <td>1.000000</td>\n",
       "      <td>530.000000</td>\n",
       "      <td>10.600000</td>\n",
       "      <td>430.000000</td>\n",
       "      <td>2.320000</td>\n",
       "      <td>395.000000</td>\n",
       "    </tr>\n",
       "  </tbody>\n",
       "</table>\n",
       "</div>"
      ],
      "text/plain": [
       "               age          sex          TSH           T3          TT4  \\\n",
       "count  4618.000000  4435.000000  4286.000000  3778.000000  4442.000000   \n",
       "mean     52.066046     0.694701     7.068102     2.007740   109.621027   \n",
       "std      20.077794     0.460586    30.597431     0.963957    40.885925   \n",
       "min       1.000000     0.000000     0.005000     0.050000     2.000000   \n",
       "25%      36.000000     0.000000     0.410000     1.500000    86.000000   \n",
       "50%      55.000000     1.000000     1.400000     2.000000   104.000000   \n",
       "75%      68.000000     1.000000     3.200000     2.400000   129.000000   \n",
       "max     455.000000     1.000000   530.000000    10.600000   430.000000   \n",
       "\n",
       "               T4U          FTI  \n",
       "count  4247.000000  4249.000000  \n",
       "mean      1.002579   111.270981  \n",
       "std       0.215204    38.158859  \n",
       "min       0.250000     2.000000  \n",
       "25%       0.870000    92.000000  \n",
       "50%       0.980000   107.000000  \n",
       "75%       1.090000   126.000000  \n",
       "max       2.320000   395.000000  "
      ]
     },
     "execution_count": 17,
     "metadata": {},
     "output_type": "execute_result"
    }
   ],
   "source": [
    "data_frame.describe()"
   ]
  },
  {
   "cell_type": "markdown",
   "metadata": {},
   "source": [
    "Заметим, что TSH measured, T3 measured, TT4 measured, T4U measured и FTI measured просто показывают, было ли измерено у пациента значение признаков TSH, T3, TT4, T4U и FTI соответственно. Данная информация избыточна, поскольку по значению этих признаков можно понять были они измерены или нет (наличие или отсутствие NaN), TSH measured, T3 measured, TT4 measured, T4U measured и FTI measured также можно удалить из выборки:"
   ]
  },
  {
   "cell_type": "code",
   "execution_count": 18,
   "metadata": {
    "collapsed": true
   },
   "outputs": [],
   "source": [
    "data_frame.drop(['TSH measured', 'T3 measured', 'TT4 measured', 'T4U measured', 'FTI measured'], axis='columns', inplace=True)"
   ]
  },
  {
   "cell_type": "code",
   "execution_count": 19,
   "metadata": {
    "scrolled": false
   },
   "outputs": [
    {
     "name": "stdout",
     "output_type": "stream",
     "text": [
      "<class 'pandas.core.frame.DataFrame'>\n",
      "Int64Index: 4619 entries, 0 to 909\n",
      "Data columns (total 23 columns):\n",
      "age                          4618 non-null float64\n",
      "sex                          4435 non-null float64\n",
      "on thyroxine                 4619 non-null bool\n",
      "query on thyroxine           4619 non-null bool\n",
      "on antithyroid medication    4619 non-null bool\n",
      "sick                         4619 non-null bool\n",
      "pregnant                     4619 non-null bool\n",
      "thyroid surgery              4619 non-null bool\n",
      "I131 treatment               4619 non-null bool\n",
      "query hypothyroid            4619 non-null bool\n",
      "query hyperthyroid           4619 non-null bool\n",
      "lithium                      4619 non-null bool\n",
      "goitre                       4619 non-null bool\n",
      "tumor                        4619 non-null bool\n",
      "hypopituitary                4619 non-null bool\n",
      "psych                        4619 non-null bool\n",
      "TSH                          4286 non-null float64\n",
      "T3                           3778 non-null float64\n",
      "TT4                          4442 non-null float64\n",
      "T4U                          4247 non-null float64\n",
      "FTI                          4249 non-null float64\n",
      "referral source              4619 non-null object\n",
      "diagnosis                    4619 non-null bool\n",
      "dtypes: bool(15), float64(7), object(1)\n",
      "memory usage: 392.4+ KB\n"
     ]
    }
   ],
   "source": [
    "data_frame.info()"
   ]
  },
  {
   "cell_type": "markdown",
   "metadata": {},
   "source": [
    "Заметим, что в данных присутствуют записи о неопределившихся с полом:"
   ]
  },
  {
   "cell_type": "code",
   "execution_count": 20,
   "metadata": {},
   "outputs": [
    {
     "name": "stdout",
     "output_type": "stream",
     "text": [
      "<class 'pandas.core.frame.DataFrame'>\n",
      "Int64Index: 184 entries, 16 to 2786\n",
      "Data columns (total 23 columns):\n",
      "age                          184 non-null float64\n",
      "sex                          0 non-null float64\n",
      "on thyroxine                 184 non-null bool\n",
      "query on thyroxine           184 non-null bool\n",
      "on antithyroid medication    184 non-null bool\n",
      "sick                         184 non-null bool\n",
      "pregnant                     184 non-null bool\n",
      "thyroid surgery              184 non-null bool\n",
      "I131 treatment               184 non-null bool\n",
      "query hypothyroid            184 non-null bool\n",
      "query hyperthyroid           184 non-null bool\n",
      "lithium                      184 non-null bool\n",
      "goitre                       184 non-null bool\n",
      "tumor                        184 non-null bool\n",
      "hypopituitary                184 non-null bool\n",
      "psych                        184 non-null bool\n",
      "TSH                          165 non-null float64\n",
      "T3                           156 non-null float64\n",
      "TT4                          169 non-null float64\n",
      "T4U                          162 non-null float64\n",
      "FTI                          162 non-null float64\n",
      "referral source              184 non-null object\n",
      "diagnosis                    184 non-null bool\n",
      "dtypes: bool(15), float64(7), object(1)\n",
      "memory usage: 15.6+ KB\n"
     ]
    }
   ],
   "source": [
    "data_frame[(data_frame.sex.isnull())].sort_index().info()"
   ]
  },
  {
   "cell_type": "markdown",
   "metadata": {},
   "source": [
    "Глянем, есть ли среди неопределившихся с полом беременные:"
   ]
  },
  {
   "cell_type": "code",
   "execution_count": 21,
   "metadata": {},
   "outputs": [
    {
     "data": {
      "text/html": [
       "<div>\n",
       "<style>\n",
       "    .dataframe thead tr:only-child th {\n",
       "        text-align: right;\n",
       "    }\n",
       "\n",
       "    .dataframe thead th {\n",
       "        text-align: left;\n",
       "    }\n",
       "\n",
       "    .dataframe tbody tr th {\n",
       "        vertical-align: top;\n",
       "    }\n",
       "</style>\n",
       "<table border=\"1\" class=\"dataframe\">\n",
       "  <thead>\n",
       "    <tr style=\"text-align: right;\">\n",
       "      <th></th>\n",
       "      <th>age</th>\n",
       "      <th>sex</th>\n",
       "      <th>on thyroxine</th>\n",
       "      <th>query on thyroxine</th>\n",
       "      <th>on antithyroid medication</th>\n",
       "      <th>sick</th>\n",
       "      <th>pregnant</th>\n",
       "      <th>thyroid surgery</th>\n",
       "      <th>I131 treatment</th>\n",
       "      <th>query hypothyroid</th>\n",
       "      <th>...</th>\n",
       "      <th>tumor</th>\n",
       "      <th>hypopituitary</th>\n",
       "      <th>psych</th>\n",
       "      <th>TSH</th>\n",
       "      <th>T3</th>\n",
       "      <th>TT4</th>\n",
       "      <th>T4U</th>\n",
       "      <th>FTI</th>\n",
       "      <th>referral source</th>\n",
       "      <th>diagnosis</th>\n",
       "    </tr>\n",
       "  </thead>\n",
       "  <tbody>\n",
       "    <tr>\n",
       "      <th>1609</th>\n",
       "      <td>73.0</td>\n",
       "      <td>NaN</td>\n",
       "      <td>False</td>\n",
       "      <td>False</td>\n",
       "      <td>False</td>\n",
       "      <td>False</td>\n",
       "      <td>True</td>\n",
       "      <td>False</td>\n",
       "      <td>False</td>\n",
       "      <td>False</td>\n",
       "      <td>...</td>\n",
       "      <td>False</td>\n",
       "      <td>False</td>\n",
       "      <td>False</td>\n",
       "      <td>2.2</td>\n",
       "      <td>2.5</td>\n",
       "      <td>110.0</td>\n",
       "      <td>1.28</td>\n",
       "      <td>85.0</td>\n",
       "      <td>other</td>\n",
       "      <td>False</td>\n",
       "    </tr>\n",
       "    <tr>\n",
       "      <th>471</th>\n",
       "      <td>21.0</td>\n",
       "      <td>NaN</td>\n",
       "      <td>False</td>\n",
       "      <td>False</td>\n",
       "      <td>False</td>\n",
       "      <td>False</td>\n",
       "      <td>True</td>\n",
       "      <td>False</td>\n",
       "      <td>False</td>\n",
       "      <td>False</td>\n",
       "      <td>...</td>\n",
       "      <td>True</td>\n",
       "      <td>False</td>\n",
       "      <td>False</td>\n",
       "      <td>2.4</td>\n",
       "      <td>3.5</td>\n",
       "      <td>171.0</td>\n",
       "      <td>1.49</td>\n",
       "      <td>115.0</td>\n",
       "      <td>STMW</td>\n",
       "      <td>False</td>\n",
       "    </tr>\n",
       "    <tr>\n",
       "      <th>471</th>\n",
       "      <td>21.0</td>\n",
       "      <td>NaN</td>\n",
       "      <td>False</td>\n",
       "      <td>False</td>\n",
       "      <td>False</td>\n",
       "      <td>False</td>\n",
       "      <td>True</td>\n",
       "      <td>False</td>\n",
       "      <td>False</td>\n",
       "      <td>False</td>\n",
       "      <td>...</td>\n",
       "      <td>True</td>\n",
       "      <td>False</td>\n",
       "      <td>False</td>\n",
       "      <td>2.4</td>\n",
       "      <td>3.5</td>\n",
       "      <td>171.0</td>\n",
       "      <td>1.49</td>\n",
       "      <td>115.0</td>\n",
       "      <td>STMW</td>\n",
       "      <td>True</td>\n",
       "    </tr>\n",
       "  </tbody>\n",
       "</table>\n",
       "<p>3 rows × 23 columns</p>\n",
       "</div>"
      ],
      "text/plain": [
       "       age  sex  on thyroxine  query on thyroxine  on antithyroid medication  \\\n",
       "1609  73.0  NaN         False               False                      False   \n",
       "471   21.0  NaN         False               False                      False   \n",
       "471   21.0  NaN         False               False                      False   \n",
       "\n",
       "       sick  pregnant  thyroid surgery  I131 treatment  query hypothyroid  \\\n",
       "1609  False      True            False           False              False   \n",
       "471   False      True            False           False              False   \n",
       "471   False      True            False           False              False   \n",
       "\n",
       "        ...      tumor  hypopituitary  psych  TSH   T3    TT4   T4U    FTI  \\\n",
       "1609    ...      False          False  False  2.2  2.5  110.0  1.28   85.0   \n",
       "471     ...       True          False  False  2.4  3.5  171.0  1.49  115.0   \n",
       "471     ...       True          False  False  2.4  3.5  171.0  1.49  115.0   \n",
       "\n",
       "      referral source  diagnosis  \n",
       "1609            other      False  \n",
       "471              STMW      False  \n",
       "471              STMW       True  \n",
       "\n",
       "[3 rows x 23 columns]"
      ]
     },
     "execution_count": 21,
     "metadata": {},
     "output_type": "execute_result"
    }
   ],
   "source": [
    "data_frame[(data_frame.sex.isnull()) & (data_frame.pregnant)]"
   ]
  },
  {
   "cell_type": "markdown",
   "metadata": {},
   "source": [
    "Поскольку пол - довольно важный признак и поскольку неопределившиеся составляют $100 \\cdot \\frac{185}{4680} \\approx 4\\%$, будет проще избавиться от данной части выборки:"
   ]
  },
  {
   "cell_type": "code",
   "execution_count": 22,
   "metadata": {
    "collapsed": true
   },
   "outputs": [],
   "source": [
    "patients_without_sex = data_frame[(data_frame.sex.isnull())]\n",
    "data_frame.drop(data_frame[(data_frame.sex.isnull())].index, inplace=True)"
   ]
  },
  {
   "cell_type": "code",
   "execution_count": 23,
   "metadata": {
    "scrolled": false
   },
   "outputs": [
    {
     "name": "stdout",
     "output_type": "stream",
     "text": [
      "<class 'pandas.core.frame.DataFrame'>\n",
      "Int64Index: 4341 entries, 0 to 909\n",
      "Data columns (total 23 columns):\n",
      "age                          4340 non-null float64\n",
      "sex                          4341 non-null float64\n",
      "on thyroxine                 4341 non-null bool\n",
      "query on thyroxine           4341 non-null bool\n",
      "on antithyroid medication    4341 non-null bool\n",
      "sick                         4341 non-null bool\n",
      "pregnant                     4341 non-null bool\n",
      "thyroid surgery              4341 non-null bool\n",
      "I131 treatment               4341 non-null bool\n",
      "query hypothyroid            4341 non-null bool\n",
      "query hyperthyroid           4341 non-null bool\n",
      "lithium                      4341 non-null bool\n",
      "goitre                       4341 non-null bool\n",
      "tumor                        4341 non-null bool\n",
      "hypopituitary                4341 non-null bool\n",
      "psych                        4341 non-null bool\n",
      "TSH                          4032 non-null float64\n",
      "T3                           3538 non-null float64\n",
      "TT4                          4180 non-null float64\n",
      "T4U                          3998 non-null float64\n",
      "FTI                          4000 non-null float64\n",
      "referral source              4341 non-null object\n",
      "diagnosis                    4341 non-null bool\n",
      "dtypes: bool(15), float64(7), object(1)\n",
      "memory usage: 368.8+ KB\n"
     ]
    }
   ],
   "source": [
    "data_frame.info()"
   ]
  },
  {
   "cell_type": "markdown",
   "metadata": {},
   "source": [
    "Остался еще один пациент, у которого не указан возраст:"
   ]
  },
  {
   "cell_type": "code",
   "execution_count": 24,
   "metadata": {
    "scrolled": false
   },
   "outputs": [
    {
     "data": {
      "text/html": [
       "<div>\n",
       "<style>\n",
       "    .dataframe thead tr:only-child th {\n",
       "        text-align: right;\n",
       "    }\n",
       "\n",
       "    .dataframe thead th {\n",
       "        text-align: left;\n",
       "    }\n",
       "\n",
       "    .dataframe tbody tr th {\n",
       "        vertical-align: top;\n",
       "    }\n",
       "</style>\n",
       "<table border=\"1\" class=\"dataframe\">\n",
       "  <thead>\n",
       "    <tr style=\"text-align: right;\">\n",
       "      <th></th>\n",
       "      <th>age</th>\n",
       "      <th>sex</th>\n",
       "      <th>on thyroxine</th>\n",
       "      <th>query on thyroxine</th>\n",
       "      <th>on antithyroid medication</th>\n",
       "      <th>sick</th>\n",
       "      <th>pregnant</th>\n",
       "      <th>thyroid surgery</th>\n",
       "      <th>I131 treatment</th>\n",
       "      <th>query hypothyroid</th>\n",
       "      <th>...</th>\n",
       "      <th>tumor</th>\n",
       "      <th>hypopituitary</th>\n",
       "      <th>psych</th>\n",
       "      <th>TSH</th>\n",
       "      <th>T3</th>\n",
       "      <th>TT4</th>\n",
       "      <th>T4U</th>\n",
       "      <th>FTI</th>\n",
       "      <th>referral source</th>\n",
       "      <th>diagnosis</th>\n",
       "    </tr>\n",
       "  </thead>\n",
       "  <tbody>\n",
       "    <tr>\n",
       "      <th>1985</th>\n",
       "      <td>NaN</td>\n",
       "      <td>1.0</td>\n",
       "      <td>True</td>\n",
       "      <td>False</td>\n",
       "      <td>False</td>\n",
       "      <td>False</td>\n",
       "      <td>False</td>\n",
       "      <td>False</td>\n",
       "      <td>True</td>\n",
       "      <td>False</td>\n",
       "      <td>...</td>\n",
       "      <td>False</td>\n",
       "      <td>False</td>\n",
       "      <td>False</td>\n",
       "      <td>0.6</td>\n",
       "      <td>1.5</td>\n",
       "      <td>120.0</td>\n",
       "      <td>0.82</td>\n",
       "      <td>146.0</td>\n",
       "      <td>other</td>\n",
       "      <td>False</td>\n",
       "    </tr>\n",
       "  </tbody>\n",
       "</table>\n",
       "<p>1 rows × 23 columns</p>\n",
       "</div>"
      ],
      "text/plain": [
       "      age  sex  on thyroxine  query on thyroxine  on antithyroid medication  \\\n",
       "1985  NaN  1.0          True               False                      False   \n",
       "\n",
       "       sick  pregnant  thyroid surgery  I131 treatment  query hypothyroid  \\\n",
       "1985  False     False            False            True              False   \n",
       "\n",
       "        ...      tumor  hypopituitary  psych  TSH   T3    TT4   T4U    FTI  \\\n",
       "1985    ...      False          False  False  0.6  1.5  120.0  0.82  146.0   \n",
       "\n",
       "      referral source  diagnosis  \n",
       "1985            other      False  \n",
       "\n",
       "[1 rows x 23 columns]"
      ]
     },
     "execution_count": 24,
     "metadata": {},
     "output_type": "execute_result"
    }
   ],
   "source": [
    "data_frame[(data_frame.age.isnull())]"
   ]
  },
  {
   "cell_type": "markdown",
   "metadata": {},
   "source": [
    "Можно было бы посчитать сколько-нибудь ближайших к данному персонажу личностей потом по медиане взять возраст,\n",
    "однако для этого нужно либо ранжировать всю выборку либо случайным образом доставать похожих по симптомам пациентов.\n",
    "Гораздо проще исключить пока этот объект из выборки, поскольку вряд ли отсутствие одного пациента существенно сместит результаты обучения:"
   ]
  },
  {
   "cell_type": "code",
   "execution_count": 25,
   "metadata": {
    "collapsed": true
   },
   "outputs": [],
   "source": [
    "data_frame.drop(data_frame[(data_frame.age.isnull())].index, inplace=True)"
   ]
  },
  {
   "cell_type": "code",
   "execution_count": 26,
   "metadata": {},
   "outputs": [
    {
     "name": "stdout",
     "output_type": "stream",
     "text": [
      "<class 'pandas.core.frame.DataFrame'>\n",
      "Int64Index: 4340 entries, 0 to 909\n",
      "Data columns (total 23 columns):\n",
      "age                          4340 non-null float64\n",
      "sex                          4340 non-null float64\n",
      "on thyroxine                 4340 non-null bool\n",
      "query on thyroxine           4340 non-null bool\n",
      "on antithyroid medication    4340 non-null bool\n",
      "sick                         4340 non-null bool\n",
      "pregnant                     4340 non-null bool\n",
      "thyroid surgery              4340 non-null bool\n",
      "I131 treatment               4340 non-null bool\n",
      "query hypothyroid            4340 non-null bool\n",
      "query hyperthyroid           4340 non-null bool\n",
      "lithium                      4340 non-null bool\n",
      "goitre                       4340 non-null bool\n",
      "tumor                        4340 non-null bool\n",
      "hypopituitary                4340 non-null bool\n",
      "psych                        4340 non-null bool\n",
      "TSH                          4031 non-null float64\n",
      "T3                           3537 non-null float64\n",
      "TT4                          4179 non-null float64\n",
      "T4U                          3997 non-null float64\n",
      "FTI                          3999 non-null float64\n",
      "referral source              4340 non-null object\n",
      "diagnosis                    4340 non-null bool\n",
      "dtypes: bool(15), float64(7), object(1)\n",
      "memory usage: 368.7+ KB\n"
     ]
    }
   ],
   "source": [
    "data_frame.info()"
   ]
  },
  {
   "cell_type": "markdown",
   "metadata": {},
   "source": [
    "Извлечем пока из выборки признак referal source:"
   ]
  },
  {
   "cell_type": "code",
   "execution_count": 27,
   "metadata": {
    "collapsed": true
   },
   "outputs": [],
   "source": [
    "referral_source = data_frame['referral source']\n",
    "data_frame.drop(['referral source'], axis='columns', inplace=True)"
   ]
  },
  {
   "cell_type": "code",
   "execution_count": 28,
   "metadata": {
    "scrolled": false
   },
   "outputs": [
    {
     "data": {
      "text/html": [
       "<div>\n",
       "<style>\n",
       "    .dataframe thead tr:only-child th {\n",
       "        text-align: right;\n",
       "    }\n",
       "\n",
       "    .dataframe thead th {\n",
       "        text-align: left;\n",
       "    }\n",
       "\n",
       "    .dataframe tbody tr th {\n",
       "        vertical-align: top;\n",
       "    }\n",
       "</style>\n",
       "<table border=\"1\" class=\"dataframe\">\n",
       "  <thead>\n",
       "    <tr style=\"text-align: right;\">\n",
       "      <th></th>\n",
       "      <th>age</th>\n",
       "      <th>sex</th>\n",
       "      <th>on thyroxine</th>\n",
       "      <th>query on thyroxine</th>\n",
       "      <th>on antithyroid medication</th>\n",
       "      <th>sick</th>\n",
       "      <th>pregnant</th>\n",
       "      <th>thyroid surgery</th>\n",
       "      <th>I131 treatment</th>\n",
       "      <th>query hypothyroid</th>\n",
       "      <th>...</th>\n",
       "      <th>goitre</th>\n",
       "      <th>tumor</th>\n",
       "      <th>hypopituitary</th>\n",
       "      <th>psych</th>\n",
       "      <th>TSH</th>\n",
       "      <th>T3</th>\n",
       "      <th>TT4</th>\n",
       "      <th>T4U</th>\n",
       "      <th>FTI</th>\n",
       "      <th>diagnosis</th>\n",
       "    </tr>\n",
       "  </thead>\n",
       "  <tbody>\n",
       "    <tr>\n",
       "      <th>0</th>\n",
       "      <td>41.0</td>\n",
       "      <td>1.0</td>\n",
       "      <td>False</td>\n",
       "      <td>False</td>\n",
       "      <td>False</td>\n",
       "      <td>False</td>\n",
       "      <td>False</td>\n",
       "      <td>False</td>\n",
       "      <td>False</td>\n",
       "      <td>False</td>\n",
       "      <td>...</td>\n",
       "      <td>False</td>\n",
       "      <td>False</td>\n",
       "      <td>False</td>\n",
       "      <td>False</td>\n",
       "      <td>1.30</td>\n",
       "      <td>2.5</td>\n",
       "      <td>125.0</td>\n",
       "      <td>1.14</td>\n",
       "      <td>109.0</td>\n",
       "      <td>False</td>\n",
       "    </tr>\n",
       "    <tr>\n",
       "      <th>1</th>\n",
       "      <td>23.0</td>\n",
       "      <td>1.0</td>\n",
       "      <td>False</td>\n",
       "      <td>False</td>\n",
       "      <td>False</td>\n",
       "      <td>False</td>\n",
       "      <td>False</td>\n",
       "      <td>False</td>\n",
       "      <td>False</td>\n",
       "      <td>False</td>\n",
       "      <td>...</td>\n",
       "      <td>False</td>\n",
       "      <td>False</td>\n",
       "      <td>False</td>\n",
       "      <td>False</td>\n",
       "      <td>4.10</td>\n",
       "      <td>2.0</td>\n",
       "      <td>102.0</td>\n",
       "      <td>NaN</td>\n",
       "      <td>NaN</td>\n",
       "      <td>False</td>\n",
       "    </tr>\n",
       "    <tr>\n",
       "      <th>2</th>\n",
       "      <td>46.0</td>\n",
       "      <td>0.0</td>\n",
       "      <td>False</td>\n",
       "      <td>False</td>\n",
       "      <td>False</td>\n",
       "      <td>False</td>\n",
       "      <td>False</td>\n",
       "      <td>False</td>\n",
       "      <td>False</td>\n",
       "      <td>False</td>\n",
       "      <td>...</td>\n",
       "      <td>False</td>\n",
       "      <td>False</td>\n",
       "      <td>False</td>\n",
       "      <td>False</td>\n",
       "      <td>0.98</td>\n",
       "      <td>NaN</td>\n",
       "      <td>109.0</td>\n",
       "      <td>0.91</td>\n",
       "      <td>120.0</td>\n",
       "      <td>False</td>\n",
       "    </tr>\n",
       "    <tr>\n",
       "      <th>3</th>\n",
       "      <td>70.0</td>\n",
       "      <td>1.0</td>\n",
       "      <td>True</td>\n",
       "      <td>False</td>\n",
       "      <td>False</td>\n",
       "      <td>False</td>\n",
       "      <td>False</td>\n",
       "      <td>False</td>\n",
       "      <td>False</td>\n",
       "      <td>False</td>\n",
       "      <td>...</td>\n",
       "      <td>False</td>\n",
       "      <td>False</td>\n",
       "      <td>False</td>\n",
       "      <td>False</td>\n",
       "      <td>0.16</td>\n",
       "      <td>1.9</td>\n",
       "      <td>175.0</td>\n",
       "      <td>NaN</td>\n",
       "      <td>NaN</td>\n",
       "      <td>False</td>\n",
       "    </tr>\n",
       "    <tr>\n",
       "      <th>4</th>\n",
       "      <td>70.0</td>\n",
       "      <td>1.0</td>\n",
       "      <td>False</td>\n",
       "      <td>False</td>\n",
       "      <td>False</td>\n",
       "      <td>False</td>\n",
       "      <td>False</td>\n",
       "      <td>False</td>\n",
       "      <td>False</td>\n",
       "      <td>False</td>\n",
       "      <td>...</td>\n",
       "      <td>False</td>\n",
       "      <td>False</td>\n",
       "      <td>False</td>\n",
       "      <td>False</td>\n",
       "      <td>0.72</td>\n",
       "      <td>1.2</td>\n",
       "      <td>61.0</td>\n",
       "      <td>0.87</td>\n",
       "      <td>70.0</td>\n",
       "      <td>False</td>\n",
       "    </tr>\n",
       "  </tbody>\n",
       "</table>\n",
       "<p>5 rows × 22 columns</p>\n",
       "</div>"
      ],
      "text/plain": [
       "    age  sex  on thyroxine  query on thyroxine  on antithyroid medication  \\\n",
       "0  41.0  1.0         False               False                      False   \n",
       "1  23.0  1.0         False               False                      False   \n",
       "2  46.0  0.0         False               False                      False   \n",
       "3  70.0  1.0          True               False                      False   \n",
       "4  70.0  1.0         False               False                      False   \n",
       "\n",
       "    sick  pregnant  thyroid surgery  I131 treatment  query hypothyroid  \\\n",
       "0  False     False            False           False              False   \n",
       "1  False     False            False           False              False   \n",
       "2  False     False            False           False              False   \n",
       "3  False     False            False           False              False   \n",
       "4  False     False            False           False              False   \n",
       "\n",
       "     ...      goitre  tumor  hypopituitary  psych   TSH   T3    TT4   T4U  \\\n",
       "0    ...       False  False          False  False  1.30  2.5  125.0  1.14   \n",
       "1    ...       False  False          False  False  4.10  2.0  102.0   NaN   \n",
       "2    ...       False  False          False  False  0.98  NaN  109.0  0.91   \n",
       "3    ...       False  False          False  False  0.16  1.9  175.0   NaN   \n",
       "4    ...       False  False          False  False  0.72  1.2   61.0  0.87   \n",
       "\n",
       "     FTI  diagnosis  \n",
       "0  109.0      False  \n",
       "1    NaN      False  \n",
       "2  120.0      False  \n",
       "3    NaN      False  \n",
       "4   70.0      False  \n",
       "\n",
       "[5 rows x 22 columns]"
      ]
     },
     "execution_count": 28,
     "metadata": {},
     "output_type": "execute_result"
    }
   ],
   "source": [
    "data_frame.head()"
   ]
  },
  {
   "cell_type": "code",
   "execution_count": 29,
   "metadata": {
    "collapsed": true
   },
   "outputs": [],
   "source": [
    "data_frame.index = range(data_frame.index.size)"
   ]
  },
  {
   "cell_type": "markdown",
   "metadata": {},
   "source": [
    "Отделим целевой признак (диагноз) от предикторов (первых 21 признаков):"
   ]
  },
  {
   "cell_type": "code",
   "execution_count": 30,
   "metadata": {
    "collapsed": true
   },
   "outputs": [],
   "source": [
    "y = data_frame['diagnosis']\n",
    "X = data_frame.drop(['diagnosis'], axis='columns')"
   ]
  },
  {
   "cell_type": "markdown",
   "metadata": {},
   "source": [
    "## Pipeline building"
   ]
  },
  {
   "cell_type": "markdown",
   "metadata": {},
   "source": [
    "Далее будет описан pipeline, который должен включать в себя:\n",
    "- заполнение признаков в соответствии с выбранным методом (выборочное среднее, выборочная медиана, выборочная мода);\n",
    "- масштабирование вещественных признаков;\n",
    "- квантильное преобразование вещественных признаков;\n",
    "- баланировку классов;\n",
    "- обучение метода К-ближайших соседей/логистической регрессии."
   ]
  },
  {
   "cell_type": "code",
   "execution_count": 31,
   "metadata": {
    "collapsed": true
   },
   "outputs": [],
   "source": [
    "continuous_features = ['age', 'TSH', 'T3', 'TT4', 'T4U', 'FTI']\n",
    "binary_features = list(set(X.columns).difference(continuous_features))"
   ]
  },
  {
   "cell_type": "code",
   "execution_count": 32,
   "metadata": {
    "collapsed": true
   },
   "outputs": [],
   "source": [
    "logistic_regression_pipeline = Pipeline([\n",
    "    ('impute', MyImputer(strategy='median')),\n",
    "    ('union', FeatureUnion([\n",
    "        ('binary', Pipeline([\n",
    "            ('select', ItemSelector(binary_features))\n",
    "        ])),\n",
    "        ('continuous', Pipeline([\n",
    "            ('select', ItemSelector(continuous_features)),\n",
    "            ('scale', StandardScaler()),\n",
    "            ('transform', QuantileTransformer())\n",
    "        ]))\n",
    "    ])),\n",
    "    ('balancer', RandomUnderSampler(random_state=42)),\n",
    "    ('fit', LogisticRegression(random_state=42))\n",
    "])"
   ]
  },
  {
   "cell_type": "code",
   "execution_count": 33,
   "metadata": {
    "collapsed": true
   },
   "outputs": [],
   "source": [
    "nearest_neighbors_pipeline = Pipeline([\n",
    "    ('impute', MyImputer(strategy='median')),\n",
    "    ('union', FeatureUnion([\n",
    "        ('binary', Pipeline([\n",
    "            ('select', ItemSelector(binary_features))\n",
    "        ])),\n",
    "        ('continuous', Pipeline([\n",
    "            ('select', ItemSelector(continuous_features)),\n",
    "            ('scale', StandardScaler()),\n",
    "            ('transform', QuantileTransformer(random_state=42))\n",
    "        ]))\n",
    "    ])),\n",
    "    ('balancer', RandomUnderSampler(random_state=42)),\n",
    "    ('fit', KNeighborsClassifier())\n",
    "])"
   ]
  },
  {
   "cell_type": "markdown",
   "metadata": {},
   "source": [
    "Итак, у нас есть некий базовый слепок выборки, теперь попробуем обучить логистическую регрессию и метод К-ближайших соседей.\n",
    "\n",
    "Пока что без особого вмешательства, просто чтобы глянуть, что получится, если запустить дефолтный pipeline.\n",
    "\n",
    "Разделим предварительно выборку на обучающую и тестовую:"
   ]
  },
  {
   "cell_type": "code",
   "execution_count": 34,
   "metadata": {
    "collapsed": true
   },
   "outputs": [],
   "source": [
    "X_train, X_test, y_train, y_test = train_test_split(X, y, test_size=0.33, random_state=42)"
   ]
  },
  {
   "cell_type": "code",
   "execution_count": 35,
   "metadata": {},
   "outputs": [
    {
     "data": {
      "text/plain": [
       "Pipeline(memory=None,\n",
       "     steps=[('impute', MyImputer(strategy='median')), ('union', FeatureUnion(n_jobs=1,\n",
       "       transformer_list=[('binary', Pipeline(memory=None,\n",
       "     steps=[('select', ItemSelector(columns=['sick', 'query hyperthyroid', 'on antithyroid medication', 'I131 treatment', 'goitre', 'thyroid surgery', 'lithium'...owski',\n",
       "           metric_params=None, n_jobs=1, n_neighbors=5, p=2,\n",
       "           weights='uniform'))])"
      ]
     },
     "execution_count": 35,
     "metadata": {},
     "output_type": "execute_result"
    }
   ],
   "source": [
    "logistic_regression_pipeline.fit(X_train, y_train)\n",
    "nearest_neighbors_pipeline.fit(X_train, y_train)"
   ]
  },
  {
   "cell_type": "code",
   "execution_count": 36,
   "metadata": {
    "collapsed": true
   },
   "outputs": [],
   "source": [
    "l_r_y_pred = logistic_regression_pipeline.predict(X_test)\n",
    "k_n_y_pred = nearest_neighbors_pipeline.predict(X_test)"
   ]
  },
  {
   "cell_type": "code",
   "execution_count": 37,
   "metadata": {},
   "outputs": [
    {
     "data": {
      "image/png": "[encoded data removed]",
      "text/plain": [
       "<matplotlib.figure.Figure at 0x29e985d7dd8>"
      ]
     },
     "metadata": {},
     "output_type": "display_data"
    }
   ],
   "source": [
    "show_quality_results(y_test, k_n_y_pred, l_r_y_pred)"
   ]
  },
  {
   "cell_type": "markdown",
   "metadata": {},
   "source": [
    "## Hyperparameters tunning"
   ]
  },
  {
   "cell_type": "code",
   "execution_count": 38,
   "metadata": {
    "collapsed": true
   },
   "outputs": [],
   "source": [
    "strategies = ['mean', 'median', 'most_frequent']\n",
    "balancers = [RandomUnderSampler(random_state=42), RandomOverSampler(random_state=42), ClusterCentroids(random_state=42), ADASYN(random_state=42)]"
   ]
  },
  {
   "cell_type": "code",
   "execution_count": 39,
   "metadata": {
    "collapsed": true
   },
   "outputs": [],
   "source": [
    "n_neighbors = [3, 4, 5, 6, 7, 8]\n",
    "leaf_size = [5, 10, 15, 20, 25, 30, 35]\n",
    "p = [1, 2]\n",
    "algorithm = ['ball_tree', 'kd_tree']"
   ]
  },
  {
   "cell_type": "code",
   "execution_count": 40,
   "metadata": {
    "collapsed": true
   },
   "outputs": [],
   "source": [
    "C = np.arange(0.1, 10.0, 0.5)\n",
    "class_weight = [{False: 1.0, True: w} for w in np.arange(1, 10.0, 1.0)]\n",
    "penalty = ['l1', 'l2']\n",
    "fit_intercept = [True, False]"
   ]
  },
  {
   "cell_type": "code",
   "execution_count": 41,
   "metadata": {
    "collapsed": true
   },
   "outputs": [],
   "source": [
    "k_n_grid_search_params = [\n",
    "    {\n",
    "        'impute__strategy': strategies,\n",
    "        'balancer': balancers,\n",
    "        'fit': [KNeighborsClassifier()],\n",
    "        'fit__n_neighbors': n_neighbors,\n",
    "        'fit__leaf_size': leaf_size,\n",
    "        'fit__p': p,\n",
    "        'fit__algorithm': algorithm\n",
    "    }\n",
    "]\n",
    "l_r_grid_search_params = [\n",
    "    {\n",
    "        'impute__strategy': strategies,\n",
    "        'balancer': balancers,\n",
    "        'fit': [LogisticRegression(random_state=42)],\n",
    "        'fit__C': C,\n",
    "        'fit__class_weight': class_weight,\n",
    "        'fit__penalty': penalty,\n",
    "        'fit__fit_intercept': fit_intercept\n",
    "    }\n",
    "]"
   ]
  },
  {
   "cell_type": "code",
   "execution_count": 42,
   "metadata": {
    "collapsed": true
   },
   "outputs": [],
   "source": [
    "nearest_neighbors_pipeline = Pipeline([\n",
    "    ('impute', MyImputer(strategy='median')),\n",
    "    ('union', FeatureUnion([\n",
    "        ('binary', Pipeline([\n",
    "            ('select', ItemSelector(binary_features))\n",
    "        ])),\n",
    "        ('continuous', Pipeline([\n",
    "            ('select', ItemSelector(continuous_features)),\n",
    "            ('scale', StandardScaler()),\n",
    "            ('transform', QuantileTransformer(random_state=42))\n",
    "        ]))\n",
    "    ])),\n",
    "    ('balancer', RandomUnderSampler(random_state=42)),\n",
    "    ('fit', KNeighborsClassifier())\n",
    "])\n",
    "k_n_grid_search = find_the_best_classifier(X_train, y_train, nearest_neighbors_pipeline, k_n_grid_search_params, 'f1')"
   ]
  },
  {
   "cell_type": "code",
   "execution_count": null,
   "metadata": {
    "collapsed": true
   },
   "outputs": [],
   "source": [
    "logistic_regression_pipeline = Pipeline([\n",
    "    ('impute', MyImputer(strategy='median')),\n",
    "    ('union', FeatureUnion([\n",
    "        ('binary', Pipeline([\n",
    "            ('select', ItemSelector(binary_features))\n",
    "        ])),\n",
    "        ('continuous', Pipeline([\n",
    "            ('select', ItemSelector(continuous_features)),\n",
    "            ('scale', StandardScaler()),\n",
    "            ('transform', QuantileTransformer(random_state=42))\n",
    "        ]))\n",
    "    ])),\n",
    "    ('balancer', RandomUnderSampler(random_state=42)),\n",
    "    ('fit', LogisticRegression(random_state=42))\n",
    "])\n",
    "l_r_grid_search = find_the_best_classifier(X_train, y_train, logistic_regression_pipeline, l_r_grid_search_params, 'f1')"
   ]
  },
  {
   "cell_type": "code",
   "execution_count": 44,
   "metadata": {},
   "outputs": [
    {
     "data": {
      "image/png": "[encoded data removed]",
      "text/plain": [
       "<matplotlib.figure.Figure at 0x29e9ef365f8>"
      ]
     },
     "metadata": {},
     "output_type": "display_data"
    }
   ],
   "source": [
    "k_n_y_pred = k_n_grid_search.best_estimator_.predict(X_test)\n",
    "l_r_y_pred = l_r_grid_search.best_estimator_.predict(X_test)\n",
    "show_quality_results(y_test, k_n_y_pred, l_r_y_pred)"
   ]
  },
  {
   "cell_type": "markdown",
   "metadata": {},
   "source": []
  },
  {
   "cell_type": "code",
   "execution_count": 123,
   "metadata": {},
   "outputs": [],
   "source": [
    "k_n_table_columns = list(k_n_grid_search_params[0].keys())\n",
    "\n",
    "data = {k_n_table_columns[i]: [k_n_grid_search.cv_results_['params'][j][k_n_table_columns[i]] for j in range(len(k_n_grid_search.cv_results_['params']))] for i in range(len(k_n_table_columns))}\n",
    "\n",
    "data['balancer'] = list(map(lambda x: x.__class__.__name__, data['balancer']))\n",
    "data['fit'] = list(map(lambda x: x.__class__.__name__, data['fit']))\n",
    "\n",
    "data['accuracy'] = k_n_grid_search.cv_results_['mean_test_accuracy']\n",
    "data['precision'] = k_n_grid_search.cv_results_['mean_test_precision']\n",
    "data['recall'] = k_n_grid_search.cv_results_['mean_test_recall']\n",
    "data['F_score'] = k_n_grid_search.cv_results_['mean_test_f1']\n",
    "\n",
    "k_n_table_columns.append('accuracy')\n",
    "k_n_table_columns.append('precision')\n",
    "k_n_table_columns.append('recall')\n",
    "k_n_table_columns.append('F_score')\n",
    "\n",
    "k_n_results = pd.DataFrame(data=data, columns=k_n_table_columns)"
   ]
  },
  {
   "cell_type": "code",
   "execution_count": 133,
   "metadata": {
    "scrolled": true
   },
   "outputs": [
    {
     "data": {
      "text/html": [
       "<div>\n",
       "<style>\n",
       "    .dataframe thead tr:only-child th {\n",
       "        text-align: right;\n",
       "    }\n",
       "\n",
       "    .dataframe thead th {\n",
       "        text-align: left;\n",
       "    }\n",
       "\n",
       "    .dataframe tbody tr th {\n",
       "        vertical-align: top;\n",
       "    }\n",
       "</style>\n",
       "<table border=\"1\" class=\"dataframe\">\n",
       "  <thead>\n",
       "    <tr style=\"text-align: right;\">\n",
       "      <th></th>\n",
       "      <th>impute__strategy</th>\n",
       "      <th>balancer</th>\n",
       "      <th>fit</th>\n",
       "      <th>fit__n_neighbors</th>\n",
       "      <th>fit__leaf_size</th>\n",
       "      <th>fit__p</th>\n",
       "      <th>fit__algorithm</th>\n",
       "      <th>accuracy</th>\n",
       "      <th>precision</th>\n",
       "      <th>recall</th>\n",
       "      <th>F_score</th>\n",
       "    </tr>\n",
       "  </thead>\n",
       "  <tbody>\n",
       "    <tr>\n",
       "      <th>204</th>\n",
       "      <td>mean</td>\n",
       "      <td>RandomUnderSampler</td>\n",
       "      <td>KNeighborsClassifier</td>\n",
       "      <td>7</td>\n",
       "      <td>30</td>\n",
       "      <td>1</td>\n",
       "      <td>ball_tree</td>\n",
       "      <td>0.688338</td>\n",
       "      <td>0.358837</td>\n",
       "      <td>0.724875</td>\n",
       "      <td>0.479666</td>\n",
       "    </tr>\n",
       "    <tr>\n",
       "      <th>205</th>\n",
       "      <td>median</td>\n",
       "      <td>RandomUnderSampler</td>\n",
       "      <td>KNeighborsClassifier</td>\n",
       "      <td>7</td>\n",
       "      <td>30</td>\n",
       "      <td>1</td>\n",
       "      <td>ball_tree</td>\n",
       "      <td>0.688338</td>\n",
       "      <td>0.358837</td>\n",
       "      <td>0.724875</td>\n",
       "      <td>0.479666</td>\n",
       "    </tr>\n",
       "    <tr>\n",
       "      <th>133</th>\n",
       "      <td>median</td>\n",
       "      <td>RandomUnderSampler</td>\n",
       "      <td>KNeighborsClassifier</td>\n",
       "      <td>7</td>\n",
       "      <td>20</td>\n",
       "      <td>1</td>\n",
       "      <td>ball_tree</td>\n",
       "      <td>0.688338</td>\n",
       "      <td>0.358837</td>\n",
       "      <td>0.724875</td>\n",
       "      <td>0.479666</td>\n",
       "    </tr>\n",
       "    <tr>\n",
       "      <th>169</th>\n",
       "      <td>median</td>\n",
       "      <td>RandomUnderSampler</td>\n",
       "      <td>KNeighborsClassifier</td>\n",
       "      <td>7</td>\n",
       "      <td>25</td>\n",
       "      <td>1</td>\n",
       "      <td>ball_tree</td>\n",
       "      <td>0.688338</td>\n",
       "      <td>0.358837</td>\n",
       "      <td>0.724875</td>\n",
       "      <td>0.479666</td>\n",
       "    </tr>\n",
       "    <tr>\n",
       "      <th>168</th>\n",
       "      <td>mean</td>\n",
       "      <td>RandomUnderSampler</td>\n",
       "      <td>KNeighborsClassifier</td>\n",
       "      <td>7</td>\n",
       "      <td>25</td>\n",
       "      <td>1</td>\n",
       "      <td>ball_tree</td>\n",
       "      <td>0.688338</td>\n",
       "      <td>0.358837</td>\n",
       "      <td>0.724875</td>\n",
       "      <td>0.479666</td>\n",
       "    </tr>\n",
       "  </tbody>\n",
       "</table>\n",
       "</div>"
      ],
      "text/plain": [
       "    impute__strategy            balancer                   fit  \\\n",
       "204             mean  RandomUnderSampler  KNeighborsClassifier   \n",
       "205           median  RandomUnderSampler  KNeighborsClassifier   \n",
       "133           median  RandomUnderSampler  KNeighborsClassifier   \n",
       "169           median  RandomUnderSampler  KNeighborsClassifier   \n",
       "168             mean  RandomUnderSampler  KNeighborsClassifier   \n",
       "\n",
       "     fit__n_neighbors  fit__leaf_size  fit__p fit__algorithm  accuracy  \\\n",
       "204                 7              30       1      ball_tree  0.688338   \n",
       "205                 7              30       1      ball_tree  0.688338   \n",
       "133                 7              20       1      ball_tree  0.688338   \n",
       "169                 7              25       1      ball_tree  0.688338   \n",
       "168                 7              25       1      ball_tree  0.688338   \n",
       "\n",
       "     precision    recall   F_score  \n",
       "204   0.358837  0.724875  0.479666  \n",
       "205   0.358837  0.724875  0.479666  \n",
       "133   0.358837  0.724875  0.479666  \n",
       "169   0.358837  0.724875  0.479666  \n",
       "168   0.358837  0.724875  0.479666  "
      ]
     },
     "execution_count": 133,
     "metadata": {},
     "output_type": "execute_result"
    }
   ],
   "source": [
    "k_n_results.sort_values('F_score', ascending=False).head()"
   ]
  },
  {
   "cell_type": "code",
   "execution_count": 128,
   "metadata": {
    "collapsed": true
   },
   "outputs": [],
   "source": [
    "l_r_table_columns = list(l_r_grid_search_params[0].keys())\n",
    "\n",
    "data = {l_r_table_columns[i]: [l_r_grid_search.cv_results_['params'][j][l_r_table_columns[i]] for j in range(len(l_r_grid_search.cv_results_['params']))] for i in range(len(l_r_table_columns))}\n",
    "\n",
    "data['balancer'] = list(map(lambda x: x.__class__.__name__, data['balancer']))\n",
    "data['fit'] = list(map(lambda x: x.__class__.__name__, data['fit']))\n",
    "\n",
    "data['accuracy'] = l_r_grid_search.cv_results_['mean_test_accuracy']\n",
    "data['precision'] = l_r_grid_search.cv_results_['mean_test_precision']\n",
    "data['recall'] = l_r_grid_search.cv_results_['mean_test_recall']\n",
    "data['F_score'] = l_r_grid_search.cv_results_['mean_test_f1']\n",
    "\n",
    "l_r_table_columns.append('accuracy')\n",
    "l_r_table_columns.append('precision')\n",
    "l_r_table_columns.append('recall')\n",
    "l_r_table_columns.append('F_score')\n",
    "\n",
    "l_r_results = pd.DataFrame(data=data, columns=l_r_table_columns)"
   ]
  },
  {
   "cell_type": "code",
   "execution_count": 138,
   "metadata": {
    "scrolled": true
   },
   "outputs": [
    {
     "data": {
      "text/html": [
       "<div>\n",
       "<style>\n",
       "    .dataframe thead tr:only-child th {\n",
       "        text-align: right;\n",
       "    }\n",
       "\n",
       "    .dataframe thead th {\n",
       "        text-align: left;\n",
       "    }\n",
       "\n",
       "    .dataframe tbody tr th {\n",
       "        vertical-align: top;\n",
       "    }\n",
       "</style>\n",
       "<table border=\"1\" class=\"dataframe\">\n",
       "  <thead>\n",
       "    <tr style=\"text-align: right;\">\n",
       "      <th></th>\n",
       "      <th>impute__strategy</th>\n",
       "      <th>balancer</th>\n",
       "      <th>fit</th>\n",
       "      <th>fit__C</th>\n",
       "      <th>fit__class_weight</th>\n",
       "      <th>fit__penalty</th>\n",
       "      <th>fit__fit_intercept</th>\n",
       "      <th>accuracy</th>\n",
       "      <th>precision</th>\n",
       "      <th>recall</th>\n",
       "      <th>F_score</th>\n",
       "    </tr>\n",
       "  </thead>\n",
       "  <tbody>\n",
       "    <tr>\n",
       "      <th>6485</th>\n",
       "      <td>most_frequent</td>\n",
       "      <td>ADASYN</td>\n",
       "      <td>LogisticRegression</td>\n",
       "      <td>0.1</td>\n",
       "      <td>{False: 1.0, True: 1.0}</td>\n",
       "      <td>l2</td>\n",
       "      <td>True</td>\n",
       "      <td>0.592019</td>\n",
       "      <td>0.278266</td>\n",
       "      <td>0.652259</td>\n",
       "      <td>0.389651</td>\n",
       "    </tr>\n",
       "    <tr>\n",
       "      <th>6484</th>\n",
       "      <td>median</td>\n",
       "      <td>ADASYN</td>\n",
       "      <td>LogisticRegression</td>\n",
       "      <td>0.1</td>\n",
       "      <td>{False: 1.0, True: 1.0}</td>\n",
       "      <td>l2</td>\n",
       "      <td>True</td>\n",
       "      <td>0.592019</td>\n",
       "      <td>0.278266</td>\n",
       "      <td>0.652259</td>\n",
       "      <td>0.389651</td>\n",
       "    </tr>\n",
       "    <tr>\n",
       "      <th>6483</th>\n",
       "      <td>mean</td>\n",
       "      <td>ADASYN</td>\n",
       "      <td>LogisticRegression</td>\n",
       "      <td>0.1</td>\n",
       "      <td>{False: 1.0, True: 1.0}</td>\n",
       "      <td>l2</td>\n",
       "      <td>True</td>\n",
       "      <td>0.592019</td>\n",
       "      <td>0.278266</td>\n",
       "      <td>0.652259</td>\n",
       "      <td>0.389651</td>\n",
       "    </tr>\n",
       "    <tr>\n",
       "      <th>6588</th>\n",
       "      <td>mean</td>\n",
       "      <td>ADASYN</td>\n",
       "      <td>LogisticRegression</td>\n",
       "      <td>0.6</td>\n",
       "      <td>{False: 1.0, True: 1.0}</td>\n",
       "      <td>l1</td>\n",
       "      <td>True</td>\n",
       "      <td>0.596147</td>\n",
       "      <td>0.279094</td>\n",
       "      <td>0.643584</td>\n",
       "      <td>0.388972</td>\n",
       "    </tr>\n",
       "    <tr>\n",
       "      <th>6589</th>\n",
       "      <td>median</td>\n",
       "      <td>ADASYN</td>\n",
       "      <td>LogisticRegression</td>\n",
       "      <td>0.6</td>\n",
       "      <td>{False: 1.0, True: 1.0}</td>\n",
       "      <td>l1</td>\n",
       "      <td>True</td>\n",
       "      <td>0.596147</td>\n",
       "      <td>0.279094</td>\n",
       "      <td>0.643584</td>\n",
       "      <td>0.388972</td>\n",
       "    </tr>\n",
       "  </tbody>\n",
       "</table>\n",
       "</div>"
      ],
      "text/plain": [
       "     impute__strategy balancer                 fit  fit__C  \\\n",
       "6485    most_frequent   ADASYN  LogisticRegression     0.1   \n",
       "6484           median   ADASYN  LogisticRegression     0.1   \n",
       "6483             mean   ADASYN  LogisticRegression     0.1   \n",
       "6588             mean   ADASYN  LogisticRegression     0.6   \n",
       "6589           median   ADASYN  LogisticRegression     0.6   \n",
       "\n",
       "            fit__class_weight fit__penalty  fit__fit_intercept  accuracy  \\\n",
       "6485  {False: 1.0, True: 1.0}           l2                True  0.592019   \n",
       "6484  {False: 1.0, True: 1.0}           l2                True  0.592019   \n",
       "6483  {False: 1.0, True: 1.0}           l2                True  0.592019   \n",
       "6588  {False: 1.0, True: 1.0}           l1                True  0.596147   \n",
       "6589  {False: 1.0, True: 1.0}           l1                True  0.596147   \n",
       "\n",
       "      precision    recall   F_score  \n",
       "6485   0.278266  0.652259  0.389651  \n",
       "6484   0.278266  0.652259  0.389651  \n",
       "6483   0.278266  0.652259  0.389651  \n",
       "6588   0.279094  0.643584  0.388972  \n",
       "6589   0.279094  0.643584  0.388972  "
      ]
     },
     "execution_count": 138,
     "metadata": {},
     "output_type": "execute_result"
    }
   ],
   "source": [
    "l_r_results.sort_values('F_score', ascending=False).head()"
   ]
  },
  {
   "cell_type": "markdown",
   "metadata": {},
   "source": [
    "Посмотрим на зависимость качества классификации при разных стратегиях балансировки классов:"
   ]
  },
  {
   "cell_type": "code",
   "execution_count": 154,
   "metadata": {},
   "outputs": [],
   "source": [
    "balancer_random_under_sampler = k_n_results[(k_n_results.balancer == 'RandomUnderSampler') & (k_n_results.impute__strategy == 'mean') & (k_n_results.fit__n_neighbors == 3) & (k_n_results.fit__p == 1) & (k_n_results.fit__algorithm == 'ball_tree')]\n",
    "balancer_C_C_under_sampler = k_n_results[(k_n_results.balancer == 'ClusterCentroids') & (k_n_results.impute__strategy == 'mean') & (k_n_results.fit__n_neighbors == 3) & (k_n_results.fit__p == 1) & (k_n_results.fit__algorithm == 'ball_tree')]\n",
    "balancer_random_over_sampler = k_n_results[(k_n_results.balancer == 'RandomOverSampler') & (k_n_results.impute__strategy == 'mean') & (k_n_results.fit__n_neighbors == 3) & (k_n_results.fit__p == 1) & (k_n_results.fit__algorithm == 'ball_tree')]\n",
    "balancer_adasyn_over_sampler = k_n_results[(k_n_results.balancer == 'ADASYN') & (k_n_results.impute__strategy == 'mean') & (k_n_results.fit__n_neighbors == 3) & (k_n_results.fit__p == 1) & (k_n_results.fit__algorithm == 'ball_tree')]"
   ]
  },
  {
   "cell_type": "code",
   "execution_count": 168,
   "metadata": {
    "scrolled": false
   },
   "outputs": [
    {
     "name": "stderr",
     "output_type": "stream",
     "text": [
      "C:\\Users\\Efim_Golovin\\AppData\\Local\\Continuum\\anaconda3\\lib\\site-packages\\matplotlib\\legend.py:634: UserWarning: Legend does not support <matplotlib.axes._subplots.AxesSubplot object at 0x0000029EA086D898> instances.\n",
      "A proxy artist may be used instead.\n",
      "See: http://matplotlib.org/users/legend_guide.html#using-proxy-artist\n",
      "  \"#using-proxy-artist\".format(orig_handle)\n",
      "C:\\Users\\Efim_Golovin\\AppData\\Local\\Continuum\\anaconda3\\lib\\site-packages\\matplotlib\\legend.py:634: UserWarning: Legend does not support <matplotlib.axes._subplots.AxesSubplot object at 0x0000029E9F7C0AC8> instances.\n",
      "A proxy artist may be used instead.\n",
      "See: http://matplotlib.org/users/legend_guide.html#using-proxy-artist\n",
      "  \"#using-proxy-artist\".format(orig_handle)\n",
      "C:\\Users\\Efim_Golovin\\AppData\\Local\\Continuum\\anaconda3\\lib\\site-packages\\matplotlib\\legend.py:634: UserWarning: Legend does not support <matplotlib.axes._subplots.AxesSubplot object at 0x0000029EA2F5F898> instances.\n",
      "A proxy artist may be used instead.\n",
      "See: http://matplotlib.org/users/legend_guide.html#using-proxy-artist\n",
      "  \"#using-proxy-artist\".format(orig_handle)\n",
      "C:\\Users\\Efim_Golovin\\AppData\\Local\\Continuum\\anaconda3\\lib\\site-packages\\matplotlib\\legend.py:634: UserWarning: Legend does not support <matplotlib.axes._subplots.AxesSubplot object at 0x0000029E9F71F828> instances.\n",
      "A proxy artist may be used instead.\n",
      "See: http://matplotlib.org/users/legend_guide.html#using-proxy-artist\n",
      "  \"#using-proxy-artist\".format(orig_handle)\n"
     ]
    },
    {
     "data": {
      "image/png": "[encoded data removed]",
      "text/plain": [
       "<matplotlib.figure.Figure at 0x29ea1c13780>"
      ]
     },
     "metadata": {},
     "output_type": "display_data"
    }
   ],
   "source": [
    "f, axes = plt.subplots(1, 4, figsize=(35, 10))\n",
    "axes[0].plot(range(len(balancer_random_under_sampler.precision)), balancer_random_under_sampler.precision)\n",
    "axes[1].plot(range(len(balancer_C_C_under_sampler.precision)), balancer_C_C_under_sampler.precision)\n",
    "axes[2].plot(range(len(balancer_random_over_sampler.precision)), balancer_random_over_sampler.precision)\n",
    "axes[3].plot(range(len(balancer_adasyn_over_sampler.precision)), balancer_adasyn_over_sampler.precision)\n",
    "plt.show()"
   ]
  },
  {
   "cell_type": "markdown",
   "metadata": {},
   "source": [
    "## Conclusion"
   ]
  },
  {
   "cell_type": "markdown",
   "metadata": {},
   "source": [
    "Итак, в данной работе была:\n",
    "    - проведена предварительная обработка данных посредством заполнения пропусков, нормализации признаков, исключения неинформативных признаков и т.д.;\n",
    "    - построена базовая модель для логистической регрессии и медота К-ближайших соседей;\n",
    "    - проверено два способа undersampling-а и oversampling-а с использованием поиска оптимальных гиперпараметров по сетке и стратифицированного перекрестного контроля;\n",
    "    - графически отображена зависимость метрик от различных значений гиперпараметров.\n",
    "\n",
    "То, что не вошло в данную работу, но, возможно, улучшило бы качество классификации:\n",
    "    - включение referal source в выборку с последующей его бинаризацией;\n",
    "    - использование других способов заполнения пропусков;\n",
    "    - использование других стратегий undersampling-а;\n",
    "    - использование данных о больных, у которых не был указан пол.\n",
    "\n",
    "Стоит отметить, что:\n",
    "    - использование undersampling-a существенно повысило качество классификации;\n",
    "    - дальнейший поиск оптимальной комбинации гиперпараметров также помог, но в меньшей степени;\n",
    "    - для оптимизации полноты по методу К-ближайших соседей оптимальной метрикой (при разных значениях прочих гиперпараметров) оказывается метрика Манхэттена;\n",
    "    - евклидова метрика при второй стратегии undersampling-а и стратегии взвешивания 'distance' позволяет делать более точные прогнозы.\n",
    "\n",
    "В целом, по имеющимся оценкам можно прийти к выводу, что метод К-ближайших соседей работает лучше, поскольку превосходит логистическую регрессию как в точности, так и в полноте."
   ]
  }
 ],
 "metadata": {
  "kernelspec": {
   "display_name": "Python 3",
   "language": "python",
   "name": "python3"
  },
  "language_info": {
   "codemirror_mode": {
    "name": "ipython",
    "version": 3
   },
   "file_extension": ".py",
   "mimetype": "text/x-python",
   "name": "python",
   "nbconvert_exporter": "python",
   "pygments_lexer": "ipython3",
   "version": "3.6.3"
  }
 },
 "nbformat": 4,
 "nbformat_minor": 1
}
