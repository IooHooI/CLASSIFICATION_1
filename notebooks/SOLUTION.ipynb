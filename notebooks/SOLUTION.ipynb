{
 "cells": [
  {
   "cell_type": "code",
   "execution_count": 1,
   "metadata": {
    "collapsed": false
   },
   "outputs": [],
   "source": [
    "import sys\n",
    "sys.path.append('..')\n",
    "from source.code import data_loader"
   ]
  },
  {
   "cell_type": "code",
   "execution_count": 2,
   "metadata": {
    "collapsed": false
   },
   "outputs": [
    {
     "data": {
      "text/plain": [
       "['',\n",
       " '/home/bender/anaconda2/lib/python27.zip',\n",
       " '/home/bender/anaconda2/lib/python2.7',\n",
       " '/home/bender/anaconda2/lib/python2.7/plat-linux2',\n",
       " '/home/bender/anaconda2/lib/python2.7/lib-tk',\n",
       " '/home/bender/anaconda2/lib/python2.7/lib-old',\n",
       " '/home/bender/anaconda2/lib/python2.7/lib-dynload',\n",
       " '/home/bender/.local/lib/python2.7/site-packages',\n",
       " '/home/bender/anaconda2/lib/python2.7/site-packages',\n",
       " '/home/bender/anaconda2/lib/python2.7/site-packages/Sphinx-1.5.1-py2.7.egg',\n",
       " '/home/bender/anaconda2/lib/python2.7/site-packages/setuptools-27.2.0-py2.7.egg',\n",
       " '/home/bender/anaconda2/lib/python2.7/site-packages/IPython/extensions',\n",
       " '/home/bender/.ipython',\n",
       " '..']"
      ]
     },
     "execution_count": 2,
     "metadata": {},
     "output_type": "execute_result"
    }
   ],
   "source": [
    "sys.path"
   ]
  },
  {
   "cell_type": "code",
   "execution_count": null,
   "metadata": {
    "collapsed": true
   },
   "outputs": [],
   "source": []
  }
 ],
 "metadata": {
  "kernelspec": {
   "display_name": "Python 2",
   "language": "python",
   "name": "python2"
  },
  "language_info": {
   "codemirror_mode": {
    "name": "ipython",
    "version": 2
   },
   "file_extension": ".py",
   "mimetype": "text/x-python",
   "name": "python",
   "nbconvert_exporter": "python",
   "pygments_lexer": "ipython2",
   "version": "2.7.13"
  }
 },
 "nbformat": 4,
 "nbformat_minor": 0
}
